{
 "cells": [
  {
   "cell_type": "markdown",
   "metadata": {},
   "source": [
    "# Win Probability based on the objectives taken by professional League of Legends teams\n",
    "## Mini Project MLME 2023\n",
    "__Lukas Gade Ravnsborg - lravns20@student.aau.dk__\n",
    "\n",
    "__Aalborg Universitet København, A. C. Meyers Vænge 15, 2450 København, Denmark.__\n",
    "\n",
    "This report will outline my mini project for the class \"Machine Learning for Media-Experiences\" at Aalborg University Copenhagen for the Medialogy Masters class. In this mini project I will be looking at the professional scene of the MOBA game \"League of Legends\" and see what kind of models can be used to predict the outcome of a match.\n",
    "\n",
    "In the game of \"League of Legends\" there are many factors that influence which team wins. In this project, I am gonna try and create a \"Win Probability\" prediction, in which I will be able to insert different variables into the model to see which team is more likely to win. The data set chosen is a large dataset consisting of every professional match as of the world final (November 19th) in the year 2023 and will include matches from both major and minor leagues. The data is taken from the site [Oracle Elixir](https://oracleselixir.com/tools/downloads)."
   ]
  },
  {
   "cell_type": "markdown",
   "metadata": {},
   "source": [
    "## What I look at throughout the miniproject\n",
    "In this mini project, I explore Classification, starting with Linear Regression and then comparing it to Linear SVC and k-NN. I use Classification in order to see how different early factors in a game of League of Legends have an effect on the winning team, and by those factors, classify the team as the winning or losing team."
   ]
  },
  {
   "cell_type": "markdown",
   "metadata": {},
   "source": [
    "## Pre-Processing\n",
    "As the dataset I've chosen has a lot of data in it, much of which is unneeded for this project, a lot of preprocessing needs to be used.\n",
    "### Libraries and versions used"
   ]
  },
  {
   "cell_type": "code",
   "execution_count": 116,
   "metadata": {},
   "outputs": [],
   "source": [
    "import matplotlib.pyplot as plt # version = 3.8.2\n",
    "import numpy as np              # version = 1.26.2\n",
    "import pandas as pd             # version = 2.1.3\n",
    "import seaborn as sns           # version = 0.13.0\n",
    "#import sklearn                   version = 1.3.2"
   ]
  },
  {
   "cell_type": "markdown",
   "metadata": {},
   "source": [
    "### First pre-processing step\n",
    "The first step is clearing out a lot of data that is player specific, as well as clearing out all of the players, to only get the teams performances."
   ]
  },
  {
   "cell_type": "code",
   "execution_count": 117,
   "metadata": {},
   "outputs": [
    {
     "name": "stderr",
     "output_type": "stream",
     "text": [
      "C:\\Users\\Ejer\\AppData\\Local\\Temp\\ipykernel_3272\\3706347904.py:1: DtypeWarning: Columns (2) have mixed types. Specify dtype option on import or set low_memory=False.\n",
      "  df = pd.read_csv(\"data/2023_LoL_esports_match_data_from_OraclesElixir.csv\")\n"
     ]
    },
    {
     "data": {
      "text/html": [
       "<div>\n",
       "<style scoped>\n",
       "    .dataframe tbody tr th:only-of-type {\n",
       "        vertical-align: middle;\n",
       "    }\n",
       "\n",
       "    .dataframe tbody tr th {\n",
       "        vertical-align: top;\n",
       "    }\n",
       "\n",
       "    .dataframe thead th {\n",
       "        text-align: right;\n",
       "    }\n",
       "</style>\n",
       "<table border=\"1\" class=\"dataframe\">\n",
       "  <thead>\n",
       "    <tr style=\"text-align: right;\">\n",
       "      <th></th>\n",
       "      <th>league</th>\n",
       "      <th>side</th>\n",
       "      <th>teamname</th>\n",
       "      <th>ban1</th>\n",
       "      <th>ban2</th>\n",
       "      <th>ban3</th>\n",
       "      <th>ban4</th>\n",
       "      <th>ban5</th>\n",
       "      <th>gamelength</th>\n",
       "      <th>result</th>\n",
       "      <th>...</th>\n",
       "      <th>opp_csat15</th>\n",
       "      <th>golddiffat15</th>\n",
       "      <th>xpdiffat15</th>\n",
       "      <th>csdiffat15</th>\n",
       "      <th>killsat15</th>\n",
       "      <th>assistsat15</th>\n",
       "      <th>deathsat15</th>\n",
       "      <th>opp_killsat15</th>\n",
       "      <th>opp_assistsat15</th>\n",
       "      <th>opp_deathsat15</th>\n",
       "    </tr>\n",
       "  </thead>\n",
       "  <tbody>\n",
       "    <tr>\n",
       "      <th>10</th>\n",
       "      <td>LFL2</td>\n",
       "      <td>Blue</td>\n",
       "      <td>Klanik Esport</td>\n",
       "      <td>Sylas</td>\n",
       "      <td>Caitlyn</td>\n",
       "      <td>Wukong</td>\n",
       "      <td>Akali</td>\n",
       "      <td>Yone</td>\n",
       "      <td>2612</td>\n",
       "      <td>1</td>\n",
       "      <td>...</td>\n",
       "      <td>535.0</td>\n",
       "      <td>-530.0</td>\n",
       "      <td>-1671.0</td>\n",
       "      <td>-37.0</td>\n",
       "      <td>0.0</td>\n",
       "      <td>0.0</td>\n",
       "      <td>1.0</td>\n",
       "      <td>1.0</td>\n",
       "      <td>1.0</td>\n",
       "      <td>0.0</td>\n",
       "    </tr>\n",
       "    <tr>\n",
       "      <th>11</th>\n",
       "      <td>LFL2</td>\n",
       "      <td>Red</td>\n",
       "      <td>MS Company</td>\n",
       "      <td>Galio</td>\n",
       "      <td>Lucian</td>\n",
       "      <td>Fiora</td>\n",
       "      <td>Viktor</td>\n",
       "      <td>Azir</td>\n",
       "      <td>2612</td>\n",
       "      <td>0</td>\n",
       "      <td>...</td>\n",
       "      <td>498.0</td>\n",
       "      <td>530.0</td>\n",
       "      <td>1671.0</td>\n",
       "      <td>37.0</td>\n",
       "      <td>1.0</td>\n",
       "      <td>1.0</td>\n",
       "      <td>0.0</td>\n",
       "      <td>0.0</td>\n",
       "      <td>0.0</td>\n",
       "      <td>1.0</td>\n",
       "    </tr>\n",
       "    <tr>\n",
       "      <th>22</th>\n",
       "      <td>LFL2</td>\n",
       "      <td>Blue</td>\n",
       "      <td>beGenius ESC</td>\n",
       "      <td>Fiora</td>\n",
       "      <td>Kindred</td>\n",
       "      <td>Sejuani</td>\n",
       "      <td>Nautilus</td>\n",
       "      <td>Leona</td>\n",
       "      <td>2436</td>\n",
       "      <td>0</td>\n",
       "      <td>...</td>\n",
       "      <td>532.0</td>\n",
       "      <td>673.0</td>\n",
       "      <td>530.0</td>\n",
       "      <td>-34.0</td>\n",
       "      <td>4.0</td>\n",
       "      <td>6.0</td>\n",
       "      <td>3.0</td>\n",
       "      <td>3.0</td>\n",
       "      <td>4.0</td>\n",
       "      <td>4.0</td>\n",
       "    </tr>\n",
       "    <tr>\n",
       "      <th>23</th>\n",
       "      <td>LFL2</td>\n",
       "      <td>Red</td>\n",
       "      <td>ViV Esport</td>\n",
       "      <td>Heimerdinger</td>\n",
       "      <td>Wukong</td>\n",
       "      <td>Akali</td>\n",
       "      <td>Syndra</td>\n",
       "      <td>Sylas</td>\n",
       "      <td>2436</td>\n",
       "      <td>1</td>\n",
       "      <td>...</td>\n",
       "      <td>498.0</td>\n",
       "      <td>-673.0</td>\n",
       "      <td>-530.0</td>\n",
       "      <td>34.0</td>\n",
       "      <td>3.0</td>\n",
       "      <td>4.0</td>\n",
       "      <td>4.0</td>\n",
       "      <td>4.0</td>\n",
       "      <td>6.0</td>\n",
       "      <td>3.0</td>\n",
       "    </tr>\n",
       "    <tr>\n",
       "      <th>34</th>\n",
       "      <td>LFL2</td>\n",
       "      <td>Blue</td>\n",
       "      <td>Team du Sud</td>\n",
       "      <td>Zac</td>\n",
       "      <td>Sylas</td>\n",
       "      <td>Sejuani</td>\n",
       "      <td>Jarvan IV</td>\n",
       "      <td>Ornn</td>\n",
       "      <td>1980</td>\n",
       "      <td>1</td>\n",
       "      <td>...</td>\n",
       "      <td>452.0</td>\n",
       "      <td>-1901.0</td>\n",
       "      <td>-763.0</td>\n",
       "      <td>58.0</td>\n",
       "      <td>2.0</td>\n",
       "      <td>1.0</td>\n",
       "      <td>4.0</td>\n",
       "      <td>4.0</td>\n",
       "      <td>6.0</td>\n",
       "      <td>2.0</td>\n",
       "    </tr>\n",
       "  </tbody>\n",
       "</table>\n",
       "<p>5 rows × 98 columns</p>\n",
       "</div>"
      ],
      "text/plain": [
       "   league  side       teamname          ban1     ban2     ban3       ban4  \\\n",
       "10   LFL2  Blue  Klanik Esport         Sylas  Caitlyn   Wukong      Akali   \n",
       "11   LFL2   Red     MS Company         Galio   Lucian    Fiora     Viktor   \n",
       "22   LFL2  Blue   beGenius ESC         Fiora  Kindred  Sejuani   Nautilus   \n",
       "23   LFL2   Red     ViV Esport  Heimerdinger   Wukong    Akali     Syndra   \n",
       "34   LFL2  Blue    Team du Sud           Zac    Sylas  Sejuani  Jarvan IV   \n",
       "\n",
       "     ban5  gamelength  result  ...  opp_csat15  golddiffat15  xpdiffat15  \\\n",
       "10   Yone        2612       1  ...       535.0        -530.0     -1671.0   \n",
       "11   Azir        2612       0  ...       498.0         530.0      1671.0   \n",
       "22  Leona        2436       0  ...       532.0         673.0       530.0   \n",
       "23  Sylas        2436       1  ...       498.0        -673.0      -530.0   \n",
       "34   Ornn        1980       1  ...       452.0       -1901.0      -763.0   \n",
       "\n",
       "    csdiffat15  killsat15  assistsat15  deathsat15  opp_killsat15  \\\n",
       "10       -37.0        0.0          0.0         1.0            1.0   \n",
       "11        37.0        1.0          1.0         0.0            0.0   \n",
       "22       -34.0        4.0          6.0         3.0            3.0   \n",
       "23        34.0        3.0          4.0         4.0            4.0   \n",
       "34        58.0        2.0          1.0         4.0            4.0   \n",
       "\n",
       "    opp_assistsat15  opp_deathsat15  \n",
       "10              1.0             0.0  \n",
       "11              0.0             1.0  \n",
       "22              4.0             4.0  \n",
       "23              6.0             3.0  \n",
       "34              6.0             2.0  \n",
       "\n",
       "[5 rows x 98 columns]"
      ]
     },
     "execution_count": 117,
     "metadata": {},
     "output_type": "execute_result"
    }
   ],
   "source": [
    "df = pd.read_csv(\"data/2023_LoL_esports_match_data_from_OraclesElixir.csv\")\n",
    "\n",
    "# Usually you would want to remove the data point if they are empty, however in this case I wanna do the opposite\n",
    "# I remove all the values that have a player, as I am only interested in the teams performance, not the individual.\n",
    "df = df[df['playername'].isna()]\n",
    "\n",
    "# As there are a lot of data in this csv file, I am gonna trim most of them off here.\n",
    "# Most are related to player specific stats, which we are not that interested in.\n",
    "# Also some data points that are empty that get removed here\n",
    "df.drop(columns=['playername', 'playerid', 'firstbloodkill','firstbloodassist','firstbloodvictim','dragons (type unknown)','total cs','monsterkillsownjungle','monsterkillsenemyjungle','teamkills','teamdeaths','damageshare'], inplace=True)\n",
    "df.drop(columns=['gameid','datacompleteness','url','year','split','playoffs','date','game','patch','participantid','position','teamid','champion'],inplace=True)\n",
    "\n",
    "df.replace(\"\", float(\"NaN\"), inplace=True) \n",
    "df.dropna(how='all',axis=1, inplace=True)\n",
    "\n",
    "df.head()"
   ]
  },
  {
   "cell_type": "code",
   "execution_count": 155,
   "metadata": {},
   "outputs": [
    {
     "data": {
      "text/html": [
       "<div>\n",
       "<style scoped>\n",
       "    .dataframe tbody tr th:only-of-type {\n",
       "        vertical-align: middle;\n",
       "    }\n",
       "\n",
       "    .dataframe tbody tr th {\n",
       "        vertical-align: top;\n",
       "    }\n",
       "\n",
       "    .dataframe thead th {\n",
       "        text-align: right;\n",
       "    }\n",
       "</style>\n",
       "<table border=\"1\" class=\"dataframe\">\n",
       "  <thead>\n",
       "    <tr style=\"text-align: right;\">\n",
       "      <th></th>\n",
       "      <th>side</th>\n",
       "      <th>result</th>\n",
       "      <th>firstdragon</th>\n",
       "      <th>firstherald</th>\n",
       "      <th>firsttower</th>\n",
       "      <th>turretplates</th>\n",
       "      <th>golddiffat10</th>\n",
       "      <th>xpdiffat10</th>\n",
       "      <th>killsat10</th>\n",
       "      <th>golddiffat15</th>\n",
       "      <th>xpdiffat15</th>\n",
       "      <th>killsat15</th>\n",
       "    </tr>\n",
       "  </thead>\n",
       "  <tbody>\n",
       "    <tr>\n",
       "      <th>10</th>\n",
       "      <td>0</td>\n",
       "      <td>1</td>\n",
       "      <td>0.0</td>\n",
       "      <td>1.0</td>\n",
       "      <td>1.0</td>\n",
       "      <td>4.0</td>\n",
       "      <td>75.0</td>\n",
       "      <td>-156.0</td>\n",
       "      <td>0.0</td>\n",
       "      <td>-530.0</td>\n",
       "      <td>-1671.0</td>\n",
       "      <td>0.0</td>\n",
       "    </tr>\n",
       "    <tr>\n",
       "      <th>11</th>\n",
       "      <td>1</td>\n",
       "      <td>0</td>\n",
       "      <td>1.0</td>\n",
       "      <td>0.0</td>\n",
       "      <td>0.0</td>\n",
       "      <td>2.0</td>\n",
       "      <td>-75.0</td>\n",
       "      <td>156.0</td>\n",
       "      <td>0.0</td>\n",
       "      <td>530.0</td>\n",
       "      <td>1671.0</td>\n",
       "      <td>1.0</td>\n",
       "    </tr>\n",
       "    <tr>\n",
       "      <th>22</th>\n",
       "      <td>0</td>\n",
       "      <td>0</td>\n",
       "      <td>0.0</td>\n",
       "      <td>1.0</td>\n",
       "      <td>0.0</td>\n",
       "      <td>6.0</td>\n",
       "      <td>-361.0</td>\n",
       "      <td>282.0</td>\n",
       "      <td>2.0</td>\n",
       "      <td>673.0</td>\n",
       "      <td>530.0</td>\n",
       "      <td>4.0</td>\n",
       "    </tr>\n",
       "    <tr>\n",
       "      <th>23</th>\n",
       "      <td>1</td>\n",
       "      <td>1</td>\n",
       "      <td>1.0</td>\n",
       "      <td>0.0</td>\n",
       "      <td>1.0</td>\n",
       "      <td>2.0</td>\n",
       "      <td>361.0</td>\n",
       "      <td>-282.0</td>\n",
       "      <td>2.0</td>\n",
       "      <td>-673.0</td>\n",
       "      <td>-530.0</td>\n",
       "      <td>3.0</td>\n",
       "    </tr>\n",
       "    <tr>\n",
       "      <th>34</th>\n",
       "      <td>0</td>\n",
       "      <td>1</td>\n",
       "      <td>0.0</td>\n",
       "      <td>0.0</td>\n",
       "      <td>0.0</td>\n",
       "      <td>3.0</td>\n",
       "      <td>-1001.0</td>\n",
       "      <td>-1748.0</td>\n",
       "      <td>1.0</td>\n",
       "      <td>-1901.0</td>\n",
       "      <td>-763.0</td>\n",
       "      <td>2.0</td>\n",
       "    </tr>\n",
       "  </tbody>\n",
       "</table>\n",
       "</div>"
      ],
      "text/plain": [
       "    side  result  firstdragon  firstherald  firsttower  turretplates  \\\n",
       "10     0       1          0.0          1.0         1.0           4.0   \n",
       "11     1       0          1.0          0.0         0.0           2.0   \n",
       "22     0       0          0.0          1.0         0.0           6.0   \n",
       "23     1       1          1.0          0.0         1.0           2.0   \n",
       "34     0       1          0.0          0.0         0.0           3.0   \n",
       "\n",
       "    golddiffat10  xpdiffat10  killsat10  golddiffat15  xpdiffat15  killsat15  \n",
       "10          75.0      -156.0        0.0        -530.0     -1671.0        0.0  \n",
       "11         -75.0       156.0        0.0         530.0      1671.0        1.0  \n",
       "22        -361.0       282.0        2.0         673.0       530.0        4.0  \n",
       "23         361.0      -282.0        2.0        -673.0      -530.0        3.0  \n",
       "34       -1001.0     -1748.0        1.0       -1901.0      -763.0        2.0  "
      ]
     },
     "execution_count": 155,
     "metadata": {},
     "output_type": "execute_result"
    }
   ],
   "source": [
    "df_objectives = df.copy()\n",
    "\n",
    "# outside of the game variables\n",
    "df_objectives.drop(columns=['league','teamname','ban1','ban2','ban3','ban4','ban5'], inplace=True)\n",
    "\n",
    "# individual performance or repeating factors\n",
    "df_objectives.drop(columns=['team kpm','doublekills','triplekills','quadrakills','pentakills','firstblood','ckpm','opp_dragons','opp_elementaldrakes','opp_heralds','opp_elders','opp_barons','opp_towers','opp_turretplates','opp_inhibitors'],inplace=True)\n",
    "\n",
    "# Factors that are accumulated at the end of the game, meaning they would cause a bias\n",
    "df_objectives.drop(columns=['gamelength','kills','dragons','damagetochampions','totalgold','firstbaron'], inplace=True)\n",
    "\n",
    "# Some of this data would need timeslot to be better used, meaning i cut it off\n",
    "df_objectives.drop(columns=['deaths','assists','elders','heralds','barons','towers','firstmidtower','inhibitors','firsttothreetowers','elementaldrakes','infernals','clouds','mountains','hextechs','oceans','chemtechs'],inplace=True)\n",
    "\n",
    "# some individual elements, some empty and some I deem less important\n",
    "df_objectives.drop(columns=['dpm','damagetakenperminute','damagemitigatedperminute','earnedgold','earned gpm','earnedgoldshare','goldspent','gspd','minionkills','monsterkills','cspm','goldat10','xpat10','csat10','opp_goldat10','opp_xpat10','opp_csat10','csdiffat10','assistsat10','deathsat10','opp_killsat10','opp_assistsat10','opp_deathsat10','goldat15','xpat15','csat15','opp_goldat15','opp_xpat15','opp_csat15','csdiffat15','assistsat15','deathsat15','opp_killsat15','opp_assistsat15','opp_deathsat15'], inplace=True)\n",
    "\n",
    "# Anything that relates to vision in the game, as it would need heatmapping to determine if the vision was good or not, which I do not have access to here.\n",
    "df_objectives.drop(columns=['wardsplaced','wpm','wardskilled','wcpm','controlwardsbought','visionscore','vspm'], inplace=True)\n",
    "\n",
    "# Turning the side column into a binary of 0/1, as it caused some problems with the code.\n",
    "df_objectives['side'] = df_objectives['side'].map({'Blue': 0, 'Red': 1})\n",
    "\n",
    "# As there are some games (mostly on the chinese servers) that do not have all of the data available, I just remove the rows and eliminate them from the dataset\n",
    "df_objectives.dropna(inplace=True)\n",
    "df_objectives.head()"
   ]
  },
  {
   "cell_type": "markdown",
   "metadata": {},
   "source": [
    "## Training and comparing the model\n",
    "\n",
    "As mentioned earlier, I use a logistic regression model, in order to classify whether a game is a win or a loss. A logistic regression model is a nonbinary model that is _intended_ for multiclass classification, but can also be used for binary classification problems. It gives a probability score of how likely a value is to belonging to a certain class. At the end, I see how accurate the model is, and what the error of the model is. "
   ]
  },
  {
   "cell_type": "code",
   "execution_count": 204,
   "metadata": {},
   "outputs": [
    {
     "name": "stdout",
     "output_type": "stream",
     "text": [
      "Accuracy: 0.7536585365853659\n",
      "Mean Squared Error: 0.24634146341463414\n",
      "R-squared: 0.014407148950074444\n"
     ]
    }
   ],
   "source": [
    "from sklearn.linear_model import LogisticRegression\n",
    "from sklearn.model_selection import train_test_split\n",
    "from sklearn.metrics import accuracy_score, mean_squared_error, r2_score, classification_report\n",
    "\n",
    "X = df_objectives.drop('result', axis=1)    # Features (team stats)\n",
    "y = df_objectives['result']                 # Target variable (winner)\n",
    "\n",
    "# Split the data into training and testing sets\n",
    "X_train, X_test, y_train, y_test = train_test_split(X, y, test_size=0.2, random_state=42)\n",
    "\n",
    "# Create and train the logistic regression model\n",
    "model = LogisticRegression(max_iter=2000)   # as the data reaches an issue, due to the size of the dataset, I have to set the max iteration up to 2000\n",
    "model.fit(X_train, y_train)                 # fit the model\n",
    "\n",
    "# Make predictions on the test set\n",
    "y_pred = model.predict(X_test)\n",
    "\n",
    "# Calculate the accuracy of the model\n",
    "accuracy = accuracy_score(y_test, y_pred)\n",
    "mse = mean_squared_error(y_test, y_pred)\n",
    "r2 = r2_score(y_test, y_pred)\n",
    "\n",
    "print(\"Accuracy:\", accuracy)\n",
    "print(f'Mean Squared Error: {mse}')\n",
    "print(f'R-squared: {r2}')\n"
   ]
  },
  {
   "cell_type": "markdown",
   "metadata": {},
   "source": [
    "### Evaluating the accuracy and error\n",
    "\n",
    "The model gets the correct answer about 3/4th of the time, in which there are many variables that it is unlikely to take into account, as can be seen from the $R^2$ score. As this model is based on early variables of a League of Legends game, it makes sense it struggles to form a full picture of the entire game."
   ]
  },
  {
   "cell_type": "markdown",
   "metadata": {},
   "source": [
    "#### Confusion Matrix\n",
    "A confusion matrix can be used to evaluate your model by performing test to see if the predicted values line up with reality, for a supervised learning algorithm. It visualizes it through a matrix, hence the name, where it maps it to the 4 spaces as allocated below, to showcase how well your model performs.\n",
    "\n",
    "$\\begin{bmatrix} True Positive & False Negative \\\\ False Positive & True Negative\\end{bmatrix}$"
   ]
  },
  {
   "cell_type": "code",
   "execution_count": 185,
   "metadata": {},
   "outputs": [
    {
     "data": {
      "image/png": "[encoded data removed]",
      "text/plain": [
       "<Figure size 640x480 with 2 Axes>"
      ]
     },
     "metadata": {},
     "output_type": "display_data"
    },
    {
     "name": "stdout",
     "output_type": "stream",
     "text": [
      "Prediction accuracy: 75.37%\n",
      "[[0.3696477  0.12276423]\n",
      " [0.12357724 0.38401084]]\n"
     ]
    }
   ],
   "source": [
    "from sklearn.metrics import roc_curve, roc_auc_score, confusion_matrix\n",
    "def generate_confusion_matrix(y_true, y_pred):\n",
    "    # visualize the confusion matrix\n",
    "    ax = plt.subplot()\n",
    "    c_mat = confusion_matrix(y_true, y_pred)\n",
    "    sns.heatmap(c_mat, annot=True, fmt='g', ax=ax)\n",
    "\n",
    "    ax.set_xlabel('Predicted labels', fontsize=15)\n",
    "    ax.set_ylabel('True labels', fontsize=15)\n",
    "    ax.set_title('Confusion Matrix', fontsize=15)\n",
    "\n",
    "# Generates the prediction values of the confusion matrix and measures them up against the test values.\n",
    "y_pred = model.predict(X_test)\n",
    "generate_confusion_matrix(y_test, y_pred)\n",
    "plt.show()\n",
    "\n",
    "# compute the accuracy\n",
    "multi_accuracy = accuracy_score(y_test, y_pred)\n",
    "print(f\"Prediction accuracy: {100*multi_accuracy:.2f}%\")\n",
    "\n",
    "# Getting the normalized values of the confusion matrix\n",
    "print(confusion_matrix(y_test, y_pred,normalize='all'))\n"
   ]
  },
  {
   "cell_type": "markdown",
   "metadata": {},
   "source": [
    "In this case, the model is able to correctly predict 75%, where it is evenly spread between true positive/negatives. \n",
    "\n",
    "#### ROC Curve\n",
    "An ROC curve does nearly the same as a confusion matrix, in that it is a representation of the postive instances predicted by the model (TPR) vs. the negative instances correctly predicted by the model (FPR).\n",
    "\n",
    "$TPR = \\frac{True Positives}{True Positives + False Negatives}$\n",
    "\n",
    "$FPR = \\frac{False Positives}{False Positives + True Negatives}$"
   ]
  },
  {
   "cell_type": "code",
   "execution_count": 160,
   "metadata": {},
   "outputs": [
    {
     "name": "stdout",
     "output_type": "stream",
     "text": [
      "0.8361544186850124\n"
     ]
    },
    {
     "data": {
      "text/plain": [
       "<Axes: >"
      ]
     },
     "execution_count": 160,
     "metadata": {},
     "output_type": "execute_result"
    },
    {
     "data": {
      "image/png": "[encoded data removed]",
      "text/plain": [
       "<Figure size 640x480 with 1 Axes>"
      ]
     },
     "metadata": {},
     "output_type": "display_data"
    }
   ],
   "source": [
    "#Gets the scores needed for the ROC curve\n",
    "y_scores = model.predict_proba(X_test)\n",
    "# calculate ROC curve\n",
    "fpr, tpr, thresholds = roc_curve(y_test, y_scores[:,1])\n",
    "\n",
    "#Printing the score, good for determining how great of an ROC curve it is\n",
    "print(roc_auc_score(y_test, y_scores[:,1]))\n",
    "#Plots the ROC curve\n",
    "sns.lineplot(x=[0, 1], y=[0, 1])\n",
    "sns.lineplot(x=fpr, y=tpr)"
   ]
  },
  {
   "cell_type": "markdown",
   "metadata": {},
   "source": [
    "In this model, it strays far from the central line, meaning it is great at discriminating between true positive and false positive."
   ]
  },
  {
   "cell_type": "markdown",
   "metadata": {},
   "source": [
    "### Testing the model with a game from the World Championship\n",
    "\n",
    "I wanted to test out my model by taking one of the most popular games from the world championship (T1 vs JDG Semifinal Game 3) where T1 was the victorious team."
   ]
  },
  {
   "cell_type": "code",
   "execution_count": 207,
   "metadata": {},
   "outputs": [
    {
     "name": "stdout",
     "output_type": "stream",
     "text": [
      "T1 winning this game, based on early predictions: [[0.73216873 0.26783127]]\n",
      "JDG winning this game, based on early predictions: [[0.27478586 0.72521414]]\n"
     ]
    }
   ],
   "source": [
    "# Data of the T1 side of the game\n",
    "T1_game = pd.DataFrame({\n",
    "    'side': [0],\n",
    "    'firstdragon': [1],\n",
    "    'firstherald': [1],\n",
    "    'firsttower': [0],\n",
    "    'turretplates': [2],\n",
    "    'golddiffat10': [-401],\n",
    "    'xpdiffat10': [-21],\n",
    "    'killsat10': [3],\n",
    "    'golddiffat15': [-2308],\n",
    "    'xpdiffat15': [-1856],\n",
    "    'killsat15': [3],\n",
    "})\n",
    "\n",
    "# Data of the JDG side of the game\n",
    "JDG_game = pd.DataFrame({\n",
    "    'side': [1],\n",
    "    'firstdragon': [0],\n",
    "    'firstherald': [0],\n",
    "    'firsttower': [1],\n",
    "    'turretplates': [8],\n",
    "    'golddiffat10': [401],\n",
    "    'xpdiffat10': [21],\n",
    "    'killsat10': [4],\n",
    "    'golddiffat15': [2308],\n",
    "    'xpdiffat15': [1856],\n",
    "    'killsat15': [5],\n",
    "})\n",
    "\n",
    "# Makes a probability prediction on T1's chances\n",
    "y_pred = model.predict_proba(T1_game)\n",
    "print(\"T1 winning this game, based on early predictions:\", y_pred)\n",
    "# Makes a probability prediction on JDG's chances\n",
    "y_pred = model.predict_proba(JDG_game)\n",
    "print(\"JDG winning this game, based on early predictions:\", y_pred)"
   ]
  },
  {
   "cell_type": "markdown",
   "metadata": {},
   "source": [
    "According to the model, JDG has a higher likelyhood (75%) of being the winning team based on their early lead in comparison to T1.\n",
    "\n",
    "### Comparing the classification model\n",
    "\n",
    "Finally I wish to compare the model used to two other models: Linear-SVC, a suitable model for large datasets with a clear linear separation (win/loss in this case), and k-Nearest Neighbors (k-NN), a model suitable for complex boundaries."
   ]
  },
  {
   "cell_type": "code",
   "execution_count": 217,
   "metadata": {},
   "outputs": [
    {
     "name": "stdout",
     "output_type": "stream",
     "text": [
      "Accuracy (train) for Linear SVC: 72.5% \n",
      "              precision    recall  f1-score   support\n",
      "\n",
      "           0       0.69      0.80      0.74      1817\n",
      "           1       0.77      0.65      0.71      1873\n",
      "\n",
      "    accuracy                           0.73      3690\n",
      "   macro avg       0.73      0.73      0.72      3690\n",
      "weighted avg       0.73      0.73      0.72      3690\n",
      "\n",
      "Accuracy (train) for KNN classifier: 72.3% \n",
      "              precision    recall  f1-score   support\n",
      "\n",
      "           0       0.69      0.79      0.74      1817\n",
      "           1       0.76      0.66      0.71      1873\n",
      "\n",
      "    accuracy                           0.72      3690\n",
      "   macro avg       0.73      0.72      0.72      3690\n",
      "weighted avg       0.73      0.72      0.72      3690\n",
      "\n",
      "              precision    recall  f1-score   support\n",
      "\n",
      "           0       0.75      0.75      0.75      1817\n",
      "           1       0.76      0.76      0.76      1873\n",
      "\n",
      "    accuracy                           0.75      3690\n",
      "   macro avg       0.75      0.75      0.75      3690\n",
      "weighted avg       0.75      0.75      0.75      3690\n",
      "\n"
     ]
    }
   ],
   "source": [
    "from sklearn.neighbors import KNeighborsClassifier\n",
    "from sklearn.svm import SVC\n",
    "\n",
    "C = 6\n",
    "# k-Nearest Neighbor classifier with a leaf size of 30\n",
    "classifiers = {\n",
    "    'Linear SVC': SVC(kernel='linear', C=C, max_iter=2000, probability=True,random_state=0),\n",
    "    'KNN classifier': KNeighborsClassifier(n_neighbors=C, leaf_size=30, p=1), \n",
    "}\n",
    "\n",
    "import warnings\n",
    "# Filter out user warnings due to KNN usesr warnings\n",
    "warnings.filterwarnings(\"ignore\", category=UserWarning)\n",
    "\n",
    "#Loops through an evaluates the Linear SVC and the kNN classifier, by fitting them according to the training data\n",
    "#and then runs them through the classifier to get how accurate it is, and the models classification report\n",
    "for index, (name, classifier) in enumerate(classifiers.items()):\n",
    "    classifier.fit(X_train, np.ravel(y_train))\n",
    "    X_test = np.ascontiguousarray(X_test) # fixes KNN c_contiguous array error\n",
    "    y_pred = classifier.predict(X_test)\n",
    "    accuracy = accuracy_score(y_test, y_pred)\n",
    "    print(\"Accuracy (train) for %s: %0.1f%% \" % (name, accuracy * 100))\n",
    "    print(classification_report(y_test,y_pred))\n",
    "\n",
    "# Classification report of the logistic regression model\n",
    "y_pred = model.predict(X_test)\n",
    "print(classification_report(y_test,y_pred))"
   ]
  },
  {
   "cell_type": "markdown",
   "metadata": {},
   "source": [
    "Between the 3 models, their accuracy for the data is about the same, in that they are able to predict the outcome of the game with an accuracy of 70-75%."
   ]
  },
  {
   "cell_type": "markdown",
   "metadata": {},
   "source": [
    "## Discussion\n",
    "Throughout this project I have actually purposefully made by accuracy worse and worse. It started from having an accuracy of 97%, lowering to 84% and then finally 75%. This has been due to the choices in which variables from the dataset I've been wanting to include in the regression. I started out by having a lot of variables from the end of the game, which would \"improve\" the model. But if you know the outcome, of course you are gonna be correct. I tuned it to be more focused towards early measures (first tower/herald and turret plates) as they are often taken in the first 15 minutes, where the games have a low chances of ending.\n",
    "\n",
    "## Conclusion\n",
    "In this project I have created a model that is able to predict the outcome of a match of League of Legends with an accuracy of 75% based on early states of the game. However, there are many variables that the model is unlikely to take into account, and would disrupt its accuracy. While the model is far from perfect, it can still be used as a standpoint to get prediction on the state of the game, to help analysts or viewers get a better grasp of who is winning the game, with so many hidden factors at play."
   ]
  }
 ],
 "metadata": {
  "kernelspec": {
   "display_name": ".venv",
   "language": "python",
   "name": "python3"
  },
  "language_info": {
   "codemirror_mode": {
    "name": "ipython",
    "version": 3
   },
   "file_extension": ".py",
   "mimetype": "text/x-python",
   "name": "python",
   "nbconvert_exporter": "python",
   "pygments_lexer": "ipython3",
   "version": "3.10.2"
  }
 },
 "nbformat": 4,
 "nbformat_minor": 2
}
