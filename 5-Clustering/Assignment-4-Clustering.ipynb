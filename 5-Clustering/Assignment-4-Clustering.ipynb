{
 "cells": [
  {
   "cell_type": "markdown",
   "metadata": {},
   "source": [
    "# Assignment 4 - Clustering\n",
    "Author: ~~Lukas~~ Gade Ravnsborg\n",
    "\n",
    "Dataset used: League of Legends European Championship 2019 - Player Data\n",
    "\n",
    "https://www.kaggle.com/datasets/stephenofarrell/league-of-legends-european-championship-2019/\n",
    "\n",
    "I wanted to take a look at the different players in the european League of Legends league, data taken from Kaggle, and try to cluster them based on their stats. I look at different combats stats that I found relevant to good performance and tried to cluster it using the K-Means. I found that K-Means was able to cluster the data, but I also realized very late in the process, that the dataset might not have been the best dataset to use clustering on. I was able to cluster data around the different roles of the players, where some of the roles would overlap depending on the stat. Support and Jungle would often be clustered close to each other, due to the roles being the facilitators of the team, while on the opposite site of the spectrum the Mid and ADC role would often reap the benefits and be clustered together/close. The Top and Mid role would also be clustered together, due to the independent nature of their roles, giving them early advantages. Some of the players on the worse performing players of a team, would also often be clustered to the support/jungle, while being on a higher resource role, due to them not getting as many resources as others of the role. "
   ]
  },
  {
   "cell_type": "code",
   "execution_count": 4,
   "metadata": {},
   "outputs": [
    {
     "data": {
      "text/html": [
       "<div>\n",
       "<style scoped>\n",
       "    .dataframe tbody tr th:only-of-type {\n",
       "        vertical-align: middle;\n",
       "    }\n",
       "\n",
       "    .dataframe tbody tr th {\n",
       "        vertical-align: top;\n",
       "    }\n",
       "\n",
       "    .dataframe thead th {\n",
       "        text-align: right;\n",
       "    }\n",
       "</style>\n",
       "<table border=\"1\" class=\"dataframe\">\n",
       "  <thead>\n",
       "    <tr style=\"text-align: right;\">\n",
       "      <th></th>\n",
       "      <th>a</th>\n",
       "      <th>Player</th>\n",
       "      <th>Team</th>\n",
       "      <th>Pos</th>\n",
       "      <th>GP</th>\n",
       "      <th>W%</th>\n",
       "      <th>K</th>\n",
       "      <th>D</th>\n",
       "      <th>A</th>\n",
       "      <th>KDA</th>\n",
       "      <th>...</th>\n",
       "      <th>CSD10</th>\n",
       "      <th>CSPM</th>\n",
       "      <th>CS%P15</th>\n",
       "      <th>DPM</th>\n",
       "      <th>DMG%</th>\n",
       "      <th>EGPM</th>\n",
       "      <th>Gold%</th>\n",
       "      <th>WPM</th>\n",
       "      <th>WCPM</th>\n",
       "      <th>Split</th>\n",
       "    </tr>\n",
       "  </thead>\n",
       "  <tbody>\n",
       "    <tr>\n",
       "      <th>0</th>\n",
       "      <td>0</td>\n",
       "      <td>Abbedagge</td>\n",
       "      <td>Schalke 04</td>\n",
       "      <td>Middle</td>\n",
       "      <td>19.0</td>\n",
       "      <td>47.0</td>\n",
       "      <td>41.0</td>\n",
       "      <td>43.0</td>\n",
       "      <td>79.0</td>\n",
       "      <td>2.8</td>\n",
       "      <td>...</td>\n",
       "      <td>-3.3</td>\n",
       "      <td>9.0</td>\n",
       "      <td>26.6</td>\n",
       "      <td>417.0</td>\n",
       "      <td>24.6</td>\n",
       "      <td>257.9</td>\n",
       "      <td>22.5</td>\n",
       "      <td>0.51</td>\n",
       "      <td>0.19</td>\n",
       "      <td>Spring Regular</td>\n",
       "    </tr>\n",
       "    <tr>\n",
       "      <th>1</th>\n",
       "      <td>1</td>\n",
       "      <td>Alphari</td>\n",
       "      <td>Origen</td>\n",
       "      <td>Top</td>\n",
       "      <td>18.0</td>\n",
       "      <td>67.0</td>\n",
       "      <td>29.0</td>\n",
       "      <td>30.0</td>\n",
       "      <td>73.0</td>\n",
       "      <td>3.4</td>\n",
       "      <td>...</td>\n",
       "      <td>1.7</td>\n",
       "      <td>8.0</td>\n",
       "      <td>22.4</td>\n",
       "      <td>354.0</td>\n",
       "      <td>21.8</td>\n",
       "      <td>243.5</td>\n",
       "      <td>20.9</td>\n",
       "      <td>0.54</td>\n",
       "      <td>0.15</td>\n",
       "      <td>Spring Regular</td>\n",
       "    </tr>\n",
       "    <tr>\n",
       "      <th>2</th>\n",
       "      <td>2</td>\n",
       "      <td>Attila</td>\n",
       "      <td>Vitality</td>\n",
       "      <td>ADC</td>\n",
       "      <td>18.0</td>\n",
       "      <td>56.0</td>\n",
       "      <td>48.0</td>\n",
       "      <td>30.0</td>\n",
       "      <td>77.0</td>\n",
       "      <td>4.2</td>\n",
       "      <td>...</td>\n",
       "      <td>-3.9</td>\n",
       "      <td>10.2</td>\n",
       "      <td>33.4</td>\n",
       "      <td>458.0</td>\n",
       "      <td>25.6</td>\n",
       "      <td>316.7</td>\n",
       "      <td>26.9</td>\n",
       "      <td>0.35</td>\n",
       "      <td>0.39</td>\n",
       "      <td>Spring Regular</td>\n",
       "    </tr>\n",
       "    <tr>\n",
       "      <th>3</th>\n",
       "      <td>3</td>\n",
       "      <td>Broxah</td>\n",
       "      <td>Fnatic</td>\n",
       "      <td>Jungle</td>\n",
       "      <td>18.0</td>\n",
       "      <td>61.0</td>\n",
       "      <td>49.0</td>\n",
       "      <td>27.0</td>\n",
       "      <td>93.0</td>\n",
       "      <td>5.3</td>\n",
       "      <td>...</td>\n",
       "      <td>-1.8</td>\n",
       "      <td>5.0</td>\n",
       "      <td>13.2</td>\n",
       "      <td>255.0</td>\n",
       "      <td>14.9</td>\n",
       "      <td>200.1</td>\n",
       "      <td>17.1</td>\n",
       "      <td>0.36</td>\n",
       "      <td>0.34</td>\n",
       "      <td>Spring Regular</td>\n",
       "    </tr>\n",
       "    <tr>\n",
       "      <th>4</th>\n",
       "      <td>4</td>\n",
       "      <td>Bwipo</td>\n",
       "      <td>Fnatic</td>\n",
       "      <td>Top</td>\n",
       "      <td>18.0</td>\n",
       "      <td>61.0</td>\n",
       "      <td>41.0</td>\n",
       "      <td>42.0</td>\n",
       "      <td>80.0</td>\n",
       "      <td>2.9</td>\n",
       "      <td>...</td>\n",
       "      <td>-10.0</td>\n",
       "      <td>7.6</td>\n",
       "      <td>23.6</td>\n",
       "      <td>444.0</td>\n",
       "      <td>25.5</td>\n",
       "      <td>239.7</td>\n",
       "      <td>20.4</td>\n",
       "      <td>0.48</td>\n",
       "      <td>0.16</td>\n",
       "      <td>Spring Regular</td>\n",
       "    </tr>\n",
       "  </tbody>\n",
       "</table>\n",
       "<p>5 rows × 25 columns</p>\n",
       "</div>"
      ],
      "text/plain": [
       "   a     Player        Team     Pos    GP    W%     K     D     A  KDA  ...  \\\n",
       "0  0  Abbedagge  Schalke 04  Middle  19.0  47.0  41.0  43.0  79.0  2.8  ...   \n",
       "1  1    Alphari      Origen     Top  18.0  67.0  29.0  30.0  73.0  3.4  ...   \n",
       "2  2     Attila    Vitality     ADC  18.0  56.0  48.0  30.0  77.0  4.2  ...   \n",
       "3  3     Broxah      Fnatic  Jungle  18.0  61.0  49.0  27.0  93.0  5.3  ...   \n",
       "4  4      Bwipo      Fnatic     Top  18.0  61.0  41.0  42.0  80.0  2.9  ...   \n",
       "\n",
       "   CSD10  CSPM  CS%P15    DPM  DMG%   EGPM  Gold%   WPM  WCPM           Split  \n",
       "0   -3.3   9.0    26.6  417.0  24.6  257.9   22.5  0.51  0.19  Spring Regular  \n",
       "1    1.7   8.0    22.4  354.0  21.8  243.5   20.9  0.54  0.15  Spring Regular  \n",
       "2   -3.9  10.2    33.4  458.0  25.6  316.7   26.9  0.35  0.39  Spring Regular  \n",
       "3   -1.8   5.0    13.2  255.0  14.9  200.1   17.1  0.36  0.34  Spring Regular  \n",
       "4  -10.0   7.6    23.6  444.0  25.5  239.7   20.4  0.48  0.16  Spring Regular  \n",
       "\n",
       "[5 rows x 25 columns]"
      ]
     },
     "execution_count": 4,
     "metadata": {},
     "output_type": "execute_result"
    }
   ],
   "source": [
    "import matplotlib.pyplot as plt\n",
    "import pandas as pd\n",
    "\n",
    "df = pd.read_csv(\"data/lec_playerdata.csv\")\n",
    "df.head()\n",
    "\n"
   ]
  },
  {
   "cell_type": "code",
   "execution_count": null,
   "metadata": {},
   "outputs": [],
   "source": []
  },
  {
   "cell_type": "code",
   "execution_count": 5,
   "metadata": {},
   "outputs": [
    {
     "name": "stdout",
     "output_type": "stream",
     "text": [
      "<class 'pandas.core.frame.DataFrame'>\n",
      "RangeIndex: 221 entries, 0 to 220\n",
      "Data columns (total 24 columns):\n",
      " #   Column  Non-Null Count  Dtype  \n",
      "---  ------  --------------  -----  \n",
      " 0   Player  221 non-null    object \n",
      " 1   Team    221 non-null    object \n",
      " 2   Pos     221 non-null    object \n",
      " 3   GP      221 non-null    float64\n",
      " 4   W%      221 non-null    float64\n",
      " 5   K       221 non-null    float64\n",
      " 6   D       221 non-null    float64\n",
      " 7   A       221 non-null    float64\n",
      " 8   KDA     221 non-null    float64\n",
      " 9   KP      221 non-null    float64\n",
      " 10  DTH%    221 non-null    float64\n",
      " 11  FB%     221 non-null    float64\n",
      " 12  GD10    221 non-null    float64\n",
      " 13  XPD10   221 non-null    float64\n",
      " 14  CSD10   221 non-null    float64\n",
      " 15  CSPM    221 non-null    float64\n",
      " 16  CS%P15  221 non-null    float64\n",
      " 17  DPM     221 non-null    float64\n",
      " 18  DMG%    221 non-null    float64\n",
      " 19  EGPM    221 non-null    float64\n",
      " 20  Gold%   221 non-null    float64\n",
      " 21  WPM     221 non-null    float64\n",
      " 22  WCPM    221 non-null    float64\n",
      " 23  Split   221 non-null    object \n",
      "dtypes: float64(20), object(4)\n",
      "memory usage: 41.6+ KB\n"
     ]
    }
   ],
   "source": [
    "# Get information about the dataframe\n",
    "df.drop(df.columns[[0]], axis=1, inplace=True)\n",
    "df.info()\n"
   ]
  },
  {
   "cell_type": "code",
   "execution_count": 6,
   "metadata": {},
   "outputs": [
    {
     "data": {
      "text/html": [
       "<div>\n",
       "<style scoped>\n",
       "    .dataframe tbody tr th:only-of-type {\n",
       "        vertical-align: middle;\n",
       "    }\n",
       "\n",
       "    .dataframe tbody tr th {\n",
       "        vertical-align: top;\n",
       "    }\n",
       "\n",
       "    .dataframe thead th {\n",
       "        text-align: right;\n",
       "    }\n",
       "</style>\n",
       "<table border=\"1\" class=\"dataframe\">\n",
       "  <thead>\n",
       "    <tr style=\"text-align: right;\">\n",
       "      <th></th>\n",
       "      <th>GP</th>\n",
       "      <th>W%</th>\n",
       "      <th>K</th>\n",
       "      <th>D</th>\n",
       "      <th>A</th>\n",
       "      <th>KDA</th>\n",
       "      <th>KP</th>\n",
       "      <th>DTH%</th>\n",
       "      <th>FB%</th>\n",
       "      <th>GD10</th>\n",
       "      <th>XPD10</th>\n",
       "      <th>CSD10</th>\n",
       "      <th>CSPM</th>\n",
       "      <th>CS%P15</th>\n",
       "      <th>DPM</th>\n",
       "      <th>DMG%</th>\n",
       "      <th>EGPM</th>\n",
       "      <th>Gold%</th>\n",
       "      <th>WPM</th>\n",
       "      <th>WCPM</th>\n",
       "    </tr>\n",
       "  </thead>\n",
       "  <tbody>\n",
       "    <tr>\n",
       "      <th>count</th>\n",
       "      <td>221.000000</td>\n",
       "      <td>221.000000</td>\n",
       "      <td>221.000000</td>\n",
       "      <td>221.000000</td>\n",
       "      <td>221.000000</td>\n",
       "      <td>221.000000</td>\n",
       "      <td>221.000000</td>\n",
       "      <td>221.000000</td>\n",
       "      <td>221.000000</td>\n",
       "      <td>221.000000</td>\n",
       "      <td>221.000000</td>\n",
       "      <td>221.000000</td>\n",
       "      <td>221.000000</td>\n",
       "      <td>221.000000</td>\n",
       "      <td>221.000000</td>\n",
       "      <td>221.000000</td>\n",
       "      <td>221.000000</td>\n",
       "      <td>221.000000</td>\n",
       "      <td>221.000000</td>\n",
       "      <td>221.000000</td>\n",
       "    </tr>\n",
       "    <tr>\n",
       "      <th>mean</th>\n",
       "      <td>10.769231</td>\n",
       "      <td>47.669683</td>\n",
       "      <td>27.909502</td>\n",
       "      <td>27.954751</td>\n",
       "      <td>60.312217</td>\n",
       "      <td>3.748416</td>\n",
       "      <td>62.538914</td>\n",
       "      <td>19.767421</td>\n",
       "      <td>22.565611</td>\n",
       "      <td>-36.751131</td>\n",
       "      <td>-23.180995</td>\n",
       "      <td>-0.627149</td>\n",
       "      <td>6.389593</td>\n",
       "      <td>19.987330</td>\n",
       "      <td>369.900452</td>\n",
       "      <td>19.955204</td>\n",
       "      <td>232.807240</td>\n",
       "      <td>19.959276</td>\n",
       "      <td>0.674525</td>\n",
       "      <td>0.262172</td>\n",
       "    </tr>\n",
       "    <tr>\n",
       "      <th>std</th>\n",
       "      <td>6.587602</td>\n",
       "      <td>28.618405</td>\n",
       "      <td>22.987960</td>\n",
       "      <td>17.402658</td>\n",
       "      <td>42.786226</td>\n",
       "      <td>3.470874</td>\n",
       "      <td>8.713064</td>\n",
       "      <td>5.881460</td>\n",
       "      <td>19.179096</td>\n",
       "      <td>369.681529</td>\n",
       "      <td>274.355797</td>\n",
       "      <td>9.908811</td>\n",
       "      <td>3.125617</td>\n",
       "      <td>10.246011</td>\n",
       "      <td>162.910458</td>\n",
       "      <td>7.724985</td>\n",
       "      <td>75.567291</td>\n",
       "      <td>6.083156</td>\n",
       "      <td>0.394603</td>\n",
       "      <td>0.115297</td>\n",
       "    </tr>\n",
       "    <tr>\n",
       "      <th>min</th>\n",
       "      <td>1.000000</td>\n",
       "      <td>0.000000</td>\n",
       "      <td>0.000000</td>\n",
       "      <td>0.000000</td>\n",
       "      <td>0.000000</td>\n",
       "      <td>0.300000</td>\n",
       "      <td>17.600000</td>\n",
       "      <td>0.000000</td>\n",
       "      <td>0.000000</td>\n",
       "      <td>-2312.000000</td>\n",
       "      <td>-1311.000000</td>\n",
       "      <td>-53.000000</td>\n",
       "      <td>0.700000</td>\n",
       "      <td>2.800000</td>\n",
       "      <td>101.000000</td>\n",
       "      <td>5.400000</td>\n",
       "      <td>83.700000</td>\n",
       "      <td>8.900000</td>\n",
       "      <td>0.190000</td>\n",
       "      <td>0.000000</td>\n",
       "    </tr>\n",
       "    <tr>\n",
       "      <th>25%</th>\n",
       "      <td>4.000000</td>\n",
       "      <td>30.000000</td>\n",
       "      <td>8.000000</td>\n",
       "      <td>12.000000</td>\n",
       "      <td>24.000000</td>\n",
       "      <td>2.200000</td>\n",
       "      <td>57.700000</td>\n",
       "      <td>16.300000</td>\n",
       "      <td>9.000000</td>\n",
       "      <td>-129.000000</td>\n",
       "      <td>-133.000000</td>\n",
       "      <td>-3.900000</td>\n",
       "      <td>4.400000</td>\n",
       "      <td>11.200000</td>\n",
       "      <td>236.000000</td>\n",
       "      <td>12.700000</td>\n",
       "      <td>176.200000</td>\n",
       "      <td>15.300000</td>\n",
       "      <td>0.430000</td>\n",
       "      <td>0.170000</td>\n",
       "    </tr>\n",
       "    <tr>\n",
       "      <th>50%</th>\n",
       "      <td>11.000000</td>\n",
       "      <td>50.000000</td>\n",
       "      <td>22.000000</td>\n",
       "      <td>28.000000</td>\n",
       "      <td>57.000000</td>\n",
       "      <td>3.000000</td>\n",
       "      <td>64.100000</td>\n",
       "      <td>20.000000</td>\n",
       "      <td>20.000000</td>\n",
       "      <td>-17.000000</td>\n",
       "      <td>-16.000000</td>\n",
       "      <td>-0.400000</td>\n",
       "      <td>7.700000</td>\n",
       "      <td>23.100000</td>\n",
       "      <td>389.000000</td>\n",
       "      <td>22.500000</td>\n",
       "      <td>242.900000</td>\n",
       "      <td>21.400000</td>\n",
       "      <td>0.480000</td>\n",
       "      <td>0.250000</td>\n",
       "    </tr>\n",
       "    <tr>\n",
       "      <th>75%</th>\n",
       "      <td>18.000000</td>\n",
       "      <td>61.000000</td>\n",
       "      <td>43.000000</td>\n",
       "      <td>42.000000</td>\n",
       "      <td>89.000000</td>\n",
       "      <td>4.200000</td>\n",
       "      <td>68.400000</td>\n",
       "      <td>23.500000</td>\n",
       "      <td>33.000000</td>\n",
       "      <td>106.000000</td>\n",
       "      <td>100.000000</td>\n",
       "      <td>3.400000</td>\n",
       "      <td>8.900000</td>\n",
       "      <td>28.100000</td>\n",
       "      <td>467.000000</td>\n",
       "      <td>26.100000</td>\n",
       "      <td>287.300000</td>\n",
       "      <td>25.000000</td>\n",
       "      <td>0.760000</td>\n",
       "      <td>0.340000</td>\n",
       "    </tr>\n",
       "    <tr>\n",
       "      <th>max</th>\n",
       "      <td>19.000000</td>\n",
       "      <td>100.000000</td>\n",
       "      <td>104.000000</td>\n",
       "      <td>70.000000</td>\n",
       "      <td>188.000000</td>\n",
       "      <td>40.000000</td>\n",
       "      <td>83.300000</td>\n",
       "      <td>50.000000</td>\n",
       "      <td>100.000000</td>\n",
       "      <td>2312.000000</td>\n",
       "      <td>973.000000</td>\n",
       "      <td>68.000000</td>\n",
       "      <td>11.000000</td>\n",
       "      <td>40.500000</td>\n",
       "      <td>1186.000000</td>\n",
       "      <td>47.900000</td>\n",
       "      <td>500.400000</td>\n",
       "      <td>32.800000</td>\n",
       "      <td>1.800000</td>\n",
       "      <td>0.560000</td>\n",
       "    </tr>\n",
       "  </tbody>\n",
       "</table>\n",
       "</div>"
      ],
      "text/plain": [
       "               GP          W%           K           D           A         KDA  \\\n",
       "count  221.000000  221.000000  221.000000  221.000000  221.000000  221.000000   \n",
       "mean    10.769231   47.669683   27.909502   27.954751   60.312217    3.748416   \n",
       "std      6.587602   28.618405   22.987960   17.402658   42.786226    3.470874   \n",
       "min      1.000000    0.000000    0.000000    0.000000    0.000000    0.300000   \n",
       "25%      4.000000   30.000000    8.000000   12.000000   24.000000    2.200000   \n",
       "50%     11.000000   50.000000   22.000000   28.000000   57.000000    3.000000   \n",
       "75%     18.000000   61.000000   43.000000   42.000000   89.000000    4.200000   \n",
       "max     19.000000  100.000000  104.000000   70.000000  188.000000   40.000000   \n",
       "\n",
       "               KP        DTH%         FB%         GD10        XPD10  \\\n",
       "count  221.000000  221.000000  221.000000   221.000000   221.000000   \n",
       "mean    62.538914   19.767421   22.565611   -36.751131   -23.180995   \n",
       "std      8.713064    5.881460   19.179096   369.681529   274.355797   \n",
       "min     17.600000    0.000000    0.000000 -2312.000000 -1311.000000   \n",
       "25%     57.700000   16.300000    9.000000  -129.000000  -133.000000   \n",
       "50%     64.100000   20.000000   20.000000   -17.000000   -16.000000   \n",
       "75%     68.400000   23.500000   33.000000   106.000000   100.000000   \n",
       "max     83.300000   50.000000  100.000000  2312.000000   973.000000   \n",
       "\n",
       "            CSD10        CSPM      CS%P15          DPM        DMG%  \\\n",
       "count  221.000000  221.000000  221.000000   221.000000  221.000000   \n",
       "mean    -0.627149    6.389593   19.987330   369.900452   19.955204   \n",
       "std      9.908811    3.125617   10.246011   162.910458    7.724985   \n",
       "min    -53.000000    0.700000    2.800000   101.000000    5.400000   \n",
       "25%     -3.900000    4.400000   11.200000   236.000000   12.700000   \n",
       "50%     -0.400000    7.700000   23.100000   389.000000   22.500000   \n",
       "75%      3.400000    8.900000   28.100000   467.000000   26.100000   \n",
       "max     68.000000   11.000000   40.500000  1186.000000   47.900000   \n",
       "\n",
       "             EGPM       Gold%         WPM        WCPM  \n",
       "count  221.000000  221.000000  221.000000  221.000000  \n",
       "mean   232.807240   19.959276    0.674525    0.262172  \n",
       "std     75.567291    6.083156    0.394603    0.115297  \n",
       "min     83.700000    8.900000    0.190000    0.000000  \n",
       "25%    176.200000   15.300000    0.430000    0.170000  \n",
       "50%    242.900000   21.400000    0.480000    0.250000  \n",
       "75%    287.300000   25.000000    0.760000    0.340000  \n",
       "max    500.400000   32.800000    1.800000    0.560000  "
      ]
     },
     "execution_count": 6,
     "metadata": {},
     "output_type": "execute_result"
    }
   ],
   "source": [
    "# Look at the general values of the data. Note that popularity can be '0' - and there are many rows with that value\n",
    "df.describe()\n"
   ]
  },
  {
   "cell_type": "markdown",
   "metadata": {},
   "source": [
    "## Kernel Density estimation\n",
    "This was here as I wanted to try and look at some different kernel density estimations on different stats, because I find it really fun to look at how different stats work in accordance to each other. The following example of Gold% and First Blood% (first kill) showcases that while the support and jungle role have a higher likely hood of getting the first kill of the game, the ADC role often end up having more resources in the total aspect of the game.\n"
   ]
  },
  {
   "cell_type": "code",
   "execution_count": 7,
   "metadata": {},
   "outputs": [
    {
     "ename": "NameError",
     "evalue": "name 'sns' is not defined",
     "output_type": "error",
     "traceback": [
      "\u001b[1;31m---------------------------------------------------------------------------\u001b[0m",
      "\u001b[1;31mNameError\u001b[0m                                 Traceback (most recent call last)",
      "\u001b[1;32mc:\\Users\\lukas\\OneDrive\\Dokumenter\\UNI\\7th_semester\\MLM\\ML-For-Beginners\\5-Clustering\\Assignment-4-Clustering.ipynb Cell 7\u001b[0m line \u001b[0;36m1\n\u001b[1;32m----> <a href='vscode-notebook-cell:/c%3A/Users/lukas/OneDrive/Dokumenter/UNI/7th_semester/MLM/ML-For-Beginners/5-Clustering/Assignment-4-Clustering.ipynb#W6sZmlsZQ%3D%3D?line=0'>1</a>\u001b[0m sns\u001b[39m.\u001b[39mset_theme(style\u001b[39m=\u001b[39m\u001b[39m\"\u001b[39m\u001b[39mticks\u001b[39m\u001b[39m\"\u001b[39m)\n\u001b[0;32m      <a href='vscode-notebook-cell:/c%3A/Users/lukas/OneDrive/Dokumenter/UNI/7th_semester/MLM/ML-For-Beginners/5-Clustering/Assignment-4-Clustering.ipynb#W6sZmlsZQ%3D%3D?line=2'>3</a>\u001b[0m \u001b[39m# Show the joint distribution using kernel density estimation\u001b[39;00m\n\u001b[0;32m      <a href='vscode-notebook-cell:/c%3A/Users/lukas/OneDrive/Dokumenter/UNI/7th_semester/MLM/ML-For-Beginners/5-Clustering/Assignment-4-Clustering.ipynb#W6sZmlsZQ%3D%3D?line=3'>4</a>\u001b[0m g \u001b[39m=\u001b[39m sns\u001b[39m.\u001b[39mjointplot(\n\u001b[0;32m      <a href='vscode-notebook-cell:/c%3A/Users/lukas/OneDrive/Dokumenter/UNI/7th_semester/MLM/ML-For-Beginners/5-Clustering/Assignment-4-Clustering.ipynb#W6sZmlsZQ%3D%3D?line=4'>5</a>\u001b[0m     data\u001b[39m=\u001b[39mdf,\n\u001b[0;32m      <a href='vscode-notebook-cell:/c%3A/Users/lukas/OneDrive/Dokumenter/UNI/7th_semester/MLM/ML-For-Beginners/5-Clustering/Assignment-4-Clustering.ipynb#W6sZmlsZQ%3D%3D?line=5'>6</a>\u001b[0m     x\u001b[39m=\u001b[39m\u001b[39m\"\u001b[39m\u001b[39mGold\u001b[39m\u001b[39m%\u001b[39m\u001b[39m\"\u001b[39m, y\u001b[39m=\u001b[39m\u001b[39m\"\u001b[39m\u001b[39mFB\u001b[39m\u001b[39m%\u001b[39m\u001b[39m\"\u001b[39m, hue\u001b[39m=\u001b[39m\u001b[39m\"\u001b[39m\u001b[39mPos\u001b[39m\u001b[39m\"\u001b[39m,\n\u001b[0;32m      <a href='vscode-notebook-cell:/c%3A/Users/lukas/OneDrive/Dokumenter/UNI/7th_semester/MLM/ML-For-Beginners/5-Clustering/Assignment-4-Clustering.ipynb#W6sZmlsZQ%3D%3D?line=6'>7</a>\u001b[0m     kind\u001b[39m=\u001b[39m\u001b[39m\"\u001b[39m\u001b[39mkde\u001b[39m\u001b[39m\"\u001b[39m,\n\u001b[0;32m      <a href='vscode-notebook-cell:/c%3A/Users/lukas/OneDrive/Dokumenter/UNI/7th_semester/MLM/ML-For-Beginners/5-Clustering/Assignment-4-Clustering.ipynb#W6sZmlsZQ%3D%3D?line=7'>8</a>\u001b[0m )\n",
      "\u001b[1;31mNameError\u001b[0m: name 'sns' is not defined"
     ]
    }
   ],
   "source": [
    "sns.set_theme(style=\"ticks\")\n",
    "\n",
    "# Show the joint distribution using kernel density estimation\n",
    "g = sns.jointplot(\n",
    "    data=df,\n",
    "    x=\"Gold%\", y=\"FB%\", hue=\"Pos\",\n",
    "    kind=\"kde\",\n",
    ")"
   ]
  },
  {
   "cell_type": "markdown",
   "metadata": {},
   "source": [
    "## K-Means clustering\n"
   ]
  },
  {
   "cell_type": "code",
   "execution_count": 9,
   "metadata": {},
   "outputs": [],
   "source": [
    "# Choosing the different labels.\n",
    "# Here I look at the stats that showcases individual aspects of the players in accordance to the role they are playing.\n",
    "from sklearn.preprocessing import LabelEncoder, StandardScaler\n",
    "le = LabelEncoder()\n",
    "\n",
    "X = df.loc[:, ('Pos','CS%P15','DPM','DMG%','CSD10','Gold%')]\n",
    "\n",
    "y = df['Pos']\n",
    "\n",
    "X['Pos'] = le.fit_transform(X['Pos'])\n",
    "\n",
    "y = le.transform(y)"
   ]
  },
  {
   "cell_type": "markdown",
   "metadata": {},
   "source": [
    "I wanted to use 5 clusters, as there are 5 different roles in the game, however it seemed that 3 clusters actually helps the model more (elbow plot later also proves this). This also is kinda relevant to the game dicussion, as while there are 5 roles, some fill different aspects of the team, which is often categorized as: supportive, carry, mix."
   ]
  },
  {
   "cell_type": "code",
   "execution_count": null,
   "metadata": {},
   "outputs": [],
   "source": [
    "from sklearn.cluster import KMeans\n",
    "\n",
    "nclusters = 3\n",
    "seed = 2011\n",
    "\n",
    "km = KMeans(n_clusters=nclusters, random_state=seed,n_init='auto')\n",
    "km.fit(X)\n",
    "\n",
    "# Predict the cluster for each data point\n",
    "\n",
    "y_cluster_kmeans = km.predict(X)"
   ]
  },
  {
   "cell_type": "code",
   "execution_count": null,
   "metadata": {},
   "outputs": [
    {
     "data": {
      "text/plain": [
       "0.5629249536263254"
      ]
     },
     "execution_count": 368,
     "metadata": {},
     "output_type": "execute_result"
    }
   ],
   "source": [
    "# Sillouette score to find the accuracy of the clustering, in which the accuracy score is in the middle.\n",
    "from sklearn import metrics\n",
    "score = metrics.silhouette_score(X, y_cluster_kmeans)\n",
    "score"
   ]
  },
  {
   "cell_type": "markdown",
   "metadata": {},
   "source": [
    "## K-Means clustering and elbow plot\n",
    "\n",
    "Using the elbow method to find out how many clusters is needed, I create an elbow plot from 1 through 10. I then determin the cluster at the apex(?) of the elbow to decide how many clusters."
   ]
  },
  {
   "cell_type": "code",
   "execution_count": null,
   "metadata": {},
   "outputs": [],
   "source": [
    "# Import KMeans and build a model\n",
    "from sklearn.cluster import KMeans\n",
    "wcss = []\n",
    "\n",
    "for i in range(1, 11):\n",
    "    kmeans = KMeans(n_clusters = i, init = 'k-means++', random_state = 42, n_init='auto')\n",
    "    kmeans.fit(X)\n",
    "    wcss.append(kmeans.inertia_)"
   ]
  },
  {
   "cell_type": "code",
   "execution_count": null,
   "metadata": {},
   "outputs": [
    {
     "data": {
      "image/png": "[encoded data removed]",
      "text/plain": [
       "<Figure size 1000x500 with 1 Axes>"
      ]
     },
     "metadata": {},
     "output_type": "display_data"
    }
   ],
   "source": [
    "import seaborn as sns\n",
    "\n",
    "# Use that model to decide, using the Elbow Method, the best number of clusters to build\n",
    "plt.figure(figsize=(10,5))\n",
    "sns.lineplot(x=range(1, 11), y=wcss,marker='o',color='red')\n",
    "plt.title('Elbow')\n",
    "plt.xlabel('Number of clusters')\n",
    "plt.ylabel('WCSS')\n",
    "plt.show()"
   ]
  },
  {
   "cell_type": "markdown",
   "metadata": {},
   "source": [
    "The apex is around the 3 and 4 mark, and both of them work. However, I found more success with a cluster of 3. I then cluster the values, and here I use two different metrics: the gold share of the team, and the damage share of the team. This way we are able to cluster the different roles of the players in the games on these two measures."
   ]
  },
  {
   "cell_type": "code",
   "execution_count": null,
   "metadata": {},
   "outputs": [
    {
     "data": {
      "image/png": "[encoded data removed]",
      "text/plain": [
       "<Figure size 800x550 with 1 Axes>"
      ]
     },
     "metadata": {},
     "output_type": "display_data"
    }
   ],
   "source": [
    "from sklearn.cluster import KMeans\n",
    "kmeans = KMeans(n_clusters = 3, n_init='auto', init = 'k-means++')\n",
    "kmeans.fit(X)\n",
    "labels = kmeans.predict(X)\n",
    "\n",
    "ax = plt.axes()\n",
    "ax.set_facecolor(\"lightblue\")\n",
    "plt.scatter(df['Gold%'],df['DMG%'],c = labels)\n",
    "plt.xlabel('Gold%')\n",
    "plt.ylabel('DMG%')\n",
    "plt.show()"
   ]
  },
  {
   "cell_type": "markdown",
   "metadata": {},
   "source": [
    "I then calculate the accuracy which is... alright at 35.3%."
   ]
  },
  {
   "cell_type": "code",
   "execution_count": null,
   "metadata": {},
   "outputs": [
    {
     "name": "stdout",
     "output_type": "stream",
     "text": [
      "Result: 78 out of 221 samples were correctly labeled.\n",
      "Accuracy score: 0.353\n"
     ]
    }
   ],
   "source": [
    "labels = kmeans.labels_\n",
    "correct_labels = sum(y == labels)\n",
    "\n",
    "print(\"Result: %d out of %d samples were correctly labeled.\" % (correct_labels, y.size))\n",
    "print('Accuracy score: {0:0.3f}'. format(correct_labels/float(y.size)))"
   ]
  },
  {
   "cell_type": "markdown",
   "metadata": {},
   "source": [
    "# K-Means Pyrcaret\n",
    "\n",
    "I also wanted to try using the PyCaret library for the k-means, to see if I can get some different results. Spoiler alert, it's about the same."
   ]
  },
  {
   "cell_type": "code",
   "execution_count": 10,
   "metadata": {},
   "outputs": [
    {
     "name": "stdout",
     "output_type": "stream",
     "text": [
      "Setup Succesfully Completed!\n"
     ]
    },
    {
     "data": {
      "text/html": [
       "<style type=\"text/css\">\n",
       "</style>\n",
       "<table id=\"T_37bc7\">\n",
       "  <thead>\n",
       "    <tr>\n",
       "      <th class=\"blank level0\" >&nbsp;</th>\n",
       "      <th id=\"T_37bc7_level0_col0\" class=\"col_heading level0 col0\" >Description</th>\n",
       "      <th id=\"T_37bc7_level0_col1\" class=\"col_heading level0 col1\" >Value</th>\n",
       "    </tr>\n",
       "  </thead>\n",
       "  <tbody>\n",
       "    <tr>\n",
       "      <th id=\"T_37bc7_level0_row0\" class=\"row_heading level0 row0\" >0</th>\n",
       "      <td id=\"T_37bc7_row0_col0\" class=\"data row0 col0\" >session_id </td>\n",
       "      <td id=\"T_37bc7_row0_col1\" class=\"data row0 col1\" >456</td>\n",
       "    </tr>\n",
       "    <tr>\n",
       "      <th id=\"T_37bc7_level0_row1\" class=\"row_heading level0 row1\" >1</th>\n",
       "      <td id=\"T_37bc7_row1_col0\" class=\"data row1 col0\" >Original Data </td>\n",
       "      <td id=\"T_37bc7_row1_col1\" class=\"data row1 col1\" >(221, 6)</td>\n",
       "    </tr>\n",
       "    <tr>\n",
       "      <th id=\"T_37bc7_level0_row2\" class=\"row_heading level0 row2\" >2</th>\n",
       "      <td id=\"T_37bc7_row2_col0\" class=\"data row2 col0\" >Missing Values </td>\n",
       "      <td id=\"T_37bc7_row2_col1\" class=\"data row2 col1\" >False</td>\n",
       "    </tr>\n",
       "    <tr>\n",
       "      <th id=\"T_37bc7_level0_row3\" class=\"row_heading level0 row3\" >3</th>\n",
       "      <td id=\"T_37bc7_row3_col0\" class=\"data row3 col0\" >Numeric Features </td>\n",
       "      <td id=\"T_37bc7_row3_col1\" class=\"data row3 col1\" >6</td>\n",
       "    </tr>\n",
       "    <tr>\n",
       "      <th id=\"T_37bc7_level0_row4\" class=\"row_heading level0 row4\" >4</th>\n",
       "      <td id=\"T_37bc7_row4_col0\" class=\"data row4 col0\" >Categorical Features </td>\n",
       "      <td id=\"T_37bc7_row4_col1\" class=\"data row4 col1\" >0</td>\n",
       "    </tr>\n",
       "    <tr>\n",
       "      <th id=\"T_37bc7_level0_row5\" class=\"row_heading level0 row5\" >5</th>\n",
       "      <td id=\"T_37bc7_row5_col0\" class=\"data row5 col0\" >Ordinal Features </td>\n",
       "      <td id=\"T_37bc7_row5_col1\" class=\"data row5 col1\" >False</td>\n",
       "    </tr>\n",
       "    <tr>\n",
       "      <th id=\"T_37bc7_level0_row6\" class=\"row_heading level0 row6\" >6</th>\n",
       "      <td id=\"T_37bc7_row6_col0\" class=\"data row6 col0\" >High Cardinality Features </td>\n",
       "      <td id=\"T_37bc7_row6_col1\" class=\"data row6 col1\" >False</td>\n",
       "    </tr>\n",
       "    <tr>\n",
       "      <th id=\"T_37bc7_level0_row7\" class=\"row_heading level0 row7\" >7</th>\n",
       "      <td id=\"T_37bc7_row7_col0\" class=\"data row7 col0\" >Transformed Data </td>\n",
       "      <td id=\"T_37bc7_row7_col1\" class=\"data row7 col1\" >(221, 6)</td>\n",
       "    </tr>\n",
       "    <tr>\n",
       "      <th id=\"T_37bc7_level0_row8\" class=\"row_heading level0 row8\" >8</th>\n",
       "      <td id=\"T_37bc7_row8_col0\" class=\"data row8 col0\" >Numeric Imputer </td>\n",
       "      <td id=\"T_37bc7_row8_col1\" class=\"data row8 col1\" >mean</td>\n",
       "    </tr>\n",
       "    <tr>\n",
       "      <th id=\"T_37bc7_level0_row9\" class=\"row_heading level0 row9\" >9</th>\n",
       "      <td id=\"T_37bc7_row9_col0\" class=\"data row9 col0\" >Categorical Imputer </td>\n",
       "      <td id=\"T_37bc7_row9_col1\" class=\"data row9 col1\" >constant</td>\n",
       "    </tr>\n",
       "    <tr>\n",
       "      <th id=\"T_37bc7_level0_row10\" class=\"row_heading level0 row10\" >10</th>\n",
       "      <td id=\"T_37bc7_row10_col0\" class=\"data row10 col0\" >Normalize </td>\n",
       "      <td id=\"T_37bc7_row10_col1\" class=\"data row10 col1\" >False</td>\n",
       "    </tr>\n",
       "    <tr>\n",
       "      <th id=\"T_37bc7_level0_row11\" class=\"row_heading level0 row11\" >11</th>\n",
       "      <td id=\"T_37bc7_row11_col0\" class=\"data row11 col0\" >Normalize Method </td>\n",
       "      <td id=\"T_37bc7_row11_col1\" class=\"data row11 col1\" >None</td>\n",
       "    </tr>\n",
       "    <tr>\n",
       "      <th id=\"T_37bc7_level0_row12\" class=\"row_heading level0 row12\" >12</th>\n",
       "      <td id=\"T_37bc7_row12_col0\" class=\"data row12 col0\" >Transformation </td>\n",
       "      <td id=\"T_37bc7_row12_col1\" class=\"data row12 col1\" >False</td>\n",
       "    </tr>\n",
       "    <tr>\n",
       "      <th id=\"T_37bc7_level0_row13\" class=\"row_heading level0 row13\" >13</th>\n",
       "      <td id=\"T_37bc7_row13_col0\" class=\"data row13 col0\" >Transformation Method </td>\n",
       "      <td id=\"T_37bc7_row13_col1\" class=\"data row13 col1\" >None</td>\n",
       "    </tr>\n",
       "    <tr>\n",
       "      <th id=\"T_37bc7_level0_row14\" class=\"row_heading level0 row14\" >14</th>\n",
       "      <td id=\"T_37bc7_row14_col0\" class=\"data row14 col0\" >PCA </td>\n",
       "      <td id=\"T_37bc7_row14_col1\" class=\"data row14 col1\" >False</td>\n",
       "    </tr>\n",
       "    <tr>\n",
       "      <th id=\"T_37bc7_level0_row15\" class=\"row_heading level0 row15\" >15</th>\n",
       "      <td id=\"T_37bc7_row15_col0\" class=\"data row15 col0\" >PCA Method </td>\n",
       "      <td id=\"T_37bc7_row15_col1\" class=\"data row15 col1\" >None</td>\n",
       "    </tr>\n",
       "    <tr>\n",
       "      <th id=\"T_37bc7_level0_row16\" class=\"row_heading level0 row16\" >16</th>\n",
       "      <td id=\"T_37bc7_row16_col0\" class=\"data row16 col0\" >PCA components </td>\n",
       "      <td id=\"T_37bc7_row16_col1\" class=\"data row16 col1\" >None</td>\n",
       "    </tr>\n",
       "    <tr>\n",
       "      <th id=\"T_37bc7_level0_row17\" class=\"row_heading level0 row17\" >17</th>\n",
       "      <td id=\"T_37bc7_row17_col0\" class=\"data row17 col0\" >Ignore Low Variance </td>\n",
       "      <td id=\"T_37bc7_row17_col1\" class=\"data row17 col1\" >False</td>\n",
       "    </tr>\n",
       "    <tr>\n",
       "      <th id=\"T_37bc7_level0_row18\" class=\"row_heading level0 row18\" >18</th>\n",
       "      <td id=\"T_37bc7_row18_col0\" class=\"data row18 col0\" >Combine Rare Levels </td>\n",
       "      <td id=\"T_37bc7_row18_col1\" class=\"data row18 col1\" >False</td>\n",
       "    </tr>\n",
       "    <tr>\n",
       "      <th id=\"T_37bc7_level0_row19\" class=\"row_heading level0 row19\" >19</th>\n",
       "      <td id=\"T_37bc7_row19_col0\" class=\"data row19 col0\" >Rare Level Threshold </td>\n",
       "      <td id=\"T_37bc7_row19_col1\" class=\"data row19 col1\" >None</td>\n",
       "    </tr>\n",
       "    <tr>\n",
       "      <th id=\"T_37bc7_level0_row20\" class=\"row_heading level0 row20\" >20</th>\n",
       "      <td id=\"T_37bc7_row20_col0\" class=\"data row20 col0\" >Numeric Binning </td>\n",
       "      <td id=\"T_37bc7_row20_col1\" class=\"data row20 col1\" >False</td>\n",
       "    </tr>\n",
       "    <tr>\n",
       "      <th id=\"T_37bc7_level0_row21\" class=\"row_heading level0 row21\" >21</th>\n",
       "      <td id=\"T_37bc7_row21_col0\" class=\"data row21 col0\" >Remove Multicollinearity </td>\n",
       "      <td id=\"T_37bc7_row21_col1\" class=\"data row21 col1\" >False</td>\n",
       "    </tr>\n",
       "    <tr>\n",
       "      <th id=\"T_37bc7_level0_row22\" class=\"row_heading level0 row22\" >22</th>\n",
       "      <td id=\"T_37bc7_row22_col0\" class=\"data row22 col0\" >Multicollinearity Threshold </td>\n",
       "      <td id=\"T_37bc7_row22_col1\" class=\"data row22 col1\" >None</td>\n",
       "    </tr>\n",
       "    <tr>\n",
       "      <th id=\"T_37bc7_level0_row23\" class=\"row_heading level0 row23\" >23</th>\n",
       "      <td id=\"T_37bc7_row23_col0\" class=\"data row23 col0\" >Group Features </td>\n",
       "      <td id=\"T_37bc7_row23_col1\" class=\"data row23 col1\" >False</td>\n",
       "    </tr>\n",
       "  </tbody>\n",
       "</table>\n"
      ],
      "text/plain": [
       "<pandas.io.formats.style.Styler at 0x2a0cdffb430>"
      ]
     },
     "metadata": {},
     "output_type": "display_data"
    },
    {
     "ename": "AttributeError",
     "evalue": "'Simple_Imputer' object has no attribute 'target_variable'",
     "output_type": "error",
     "traceback": [
      "\u001b[1;31m---------------------------------------------------------------------------\u001b[0m",
      "\u001b[1;31mAttributeError\u001b[0m                            Traceback (most recent call last)",
      "\u001b[1;32mc:\\Users\\lukas\\OneDrive\\Dokumenter\\UNI\\7th_semester\\MLM\\ML-For-Beginners\\5-Clustering\\Assignment-4-Clustering.ipynb Cell 21\u001b[0m line \u001b[0;36m9\n\u001b[0;32m      <a href='vscode-notebook-cell:/c%3A/Users/lukas/OneDrive/Dokumenter/UNI/7th_semester/MLM/ML-For-Beginners/5-Clustering/Assignment-4-Clustering.ipynb#X26sZmlsZQ%3D%3D?line=5'>6</a>\u001b[0m myX \u001b[39m=\u001b[39m df\u001b[39m.\u001b[39mloc[:, (\u001b[39m'\u001b[39m\u001b[39mPos\u001b[39m\u001b[39m'\u001b[39m,\u001b[39m'\u001b[39m\u001b[39mCS\u001b[39m\u001b[39m%\u001b[39m\u001b[39mP15\u001b[39m\u001b[39m'\u001b[39m,\u001b[39m'\u001b[39m\u001b[39mDPM\u001b[39m\u001b[39m'\u001b[39m,\u001b[39m'\u001b[39m\u001b[39mDMG\u001b[39m\u001b[39m%\u001b[39m\u001b[39m'\u001b[39m,\u001b[39m'\u001b[39m\u001b[39mCSD10\u001b[39m\u001b[39m'\u001b[39m,\u001b[39m'\u001b[39m\u001b[39mGold\u001b[39m\u001b[39m%\u001b[39m\u001b[39m'\u001b[39m)]\n\u001b[0;32m      <a href='vscode-notebook-cell:/c%3A/Users/lukas/OneDrive/Dokumenter/UNI/7th_semester/MLM/ML-For-Beginners/5-Clustering/Assignment-4-Clustering.ipynb#X26sZmlsZQ%3D%3D?line=6'>7</a>\u001b[0m myX[\u001b[39m'\u001b[39m\u001b[39mPos\u001b[39m\u001b[39m'\u001b[39m] \u001b[39m=\u001b[39m le\u001b[39m.\u001b[39mfit_transform(myX[\u001b[39m'\u001b[39m\u001b[39mPos\u001b[39m\u001b[39m'\u001b[39m])\n\u001b[1;32m----> <a href='vscode-notebook-cell:/c%3A/Users/lukas/OneDrive/Dokumenter/UNI/7th_semester/MLM/ML-For-Beginners/5-Clustering/Assignment-4-Clustering.ipynb#X26sZmlsZQ%3D%3D?line=8'>9</a>\u001b[0m mys \u001b[39m=\u001b[39m setup(myX, session_id \u001b[39m=\u001b[39;49m \u001b[39m456\u001b[39;49m)\n",
      "File \u001b[1;32mc:\\Users\\lukas\\OneDrive\\Dokumenter\\UNI\\7th_semester\\MLM\\ML-For-Beginners\\.venv\\lib\\site-packages\\pycaret\\clustering.py:1223\u001b[0m, in \u001b[0;36msetup\u001b[1;34m(data, categorical_features, categorical_imputation, ordinal_features, high_cardinality_features, numeric_features, numeric_imputation, date_features, ignore_features, normalize, normalize_method, transformation, transformation_method, handle_unknown_categorical, unknown_categorical_method, pca, pca_method, pca_components, ignore_low_variance, combine_rare_levels, rare_level_threshold, bin_numeric_features, remove_multicollinearity, multicollinearity_threshold, group_features, group_names, supervised, supervised_target, n_jobs, html, session_id, log_experiment, experiment_name, log_plots, log_profile, log_data, silent, verbose, profile)\u001b[0m\n\u001b[0;32m   1220\u001b[0m         mlflow\u001b[39m.\u001b[39mlog_artifact(\u001b[39m\"\u001b[39m\u001b[39minput.txt\u001b[39m\u001b[39m\"\u001b[39m)\n\u001b[0;32m   1221\u001b[0m         os\u001b[39m.\u001b[39mremove(\u001b[39m'\u001b[39m\u001b[39minput.txt\u001b[39m\u001b[39m'\u001b[39m)\n\u001b[1;32m-> 1223\u001b[0m logger\u001b[39m.\u001b[39minfo(\u001b[39mstr\u001b[39;49m(prep_pipe))\n\u001b[0;32m   1224\u001b[0m logger\u001b[39m.\u001b[39minfo(\u001b[39m\"\u001b[39m\u001b[39msetup() succesfully completed......................................\u001b[39m\u001b[39m\"\u001b[39m)\n\u001b[0;32m   1226\u001b[0m \u001b[39mreturn\u001b[39;00m X, data_, seed, prep_pipe, prep_param, experiment__,\\\n\u001b[0;32m   1227\u001b[0m     n_jobs_param, html_param, exp_name_log, logging_param, log_plots_param, USI\n",
      "File \u001b[1;32mc:\\Users\\lukas\\OneDrive\\Dokumenter\\UNI\\7th_semester\\MLM\\ML-For-Beginners\\.venv\\lib\\site-packages\\sklearn\\base.py:257\u001b[0m, in \u001b[0;36mBaseEstimator.__repr__\u001b[1;34m(self, N_CHAR_MAX)\u001b[0m\n\u001b[0;32m    249\u001b[0m \u001b[39m# use ellipsis for sequences with a lot of elements\u001b[39;00m\n\u001b[0;32m    250\u001b[0m pp \u001b[39m=\u001b[39m _EstimatorPrettyPrinter(\n\u001b[0;32m    251\u001b[0m     compact\u001b[39m=\u001b[39m\u001b[39mTrue\u001b[39;00m,\n\u001b[0;32m    252\u001b[0m     indent\u001b[39m=\u001b[39m\u001b[39m1\u001b[39m,\n\u001b[0;32m    253\u001b[0m     indent_at_name\u001b[39m=\u001b[39m\u001b[39mTrue\u001b[39;00m,\n\u001b[0;32m    254\u001b[0m     n_max_elements_to_show\u001b[39m=\u001b[39mN_MAX_ELEMENTS_TO_SHOW,\n\u001b[0;32m    255\u001b[0m )\n\u001b[1;32m--> 257\u001b[0m repr_ \u001b[39m=\u001b[39m pp\u001b[39m.\u001b[39;49mpformat(\u001b[39mself\u001b[39;49m)\n\u001b[0;32m    259\u001b[0m \u001b[39m# Use bruteforce ellipsis when there are a lot of non-blank characters\u001b[39;00m\n\u001b[0;32m    260\u001b[0m n_nonblank \u001b[39m=\u001b[39m \u001b[39mlen\u001b[39m(\u001b[39m\"\u001b[39m\u001b[39m\"\u001b[39m\u001b[39m.\u001b[39mjoin(repr_\u001b[39m.\u001b[39msplit()))\n",
      "File \u001b[1;32m~\\AppData\\Local\\Programs\\Python\\Python39\\lib\\pprint.py:153\u001b[0m, in \u001b[0;36mPrettyPrinter.pformat\u001b[1;34m(self, object)\u001b[0m\n\u001b[0;32m    151\u001b[0m \u001b[39mdef\u001b[39;00m \u001b[39mpformat\u001b[39m(\u001b[39mself\u001b[39m, \u001b[39mobject\u001b[39m):\n\u001b[0;32m    152\u001b[0m     sio \u001b[39m=\u001b[39m _StringIO()\n\u001b[1;32m--> 153\u001b[0m     \u001b[39mself\u001b[39;49m\u001b[39m.\u001b[39;49m_format(\u001b[39mobject\u001b[39;49m, sio, \u001b[39m0\u001b[39;49m, \u001b[39m0\u001b[39;49m, {}, \u001b[39m0\u001b[39;49m)\n\u001b[0;32m    154\u001b[0m     \u001b[39mreturn\u001b[39;00m sio\u001b[39m.\u001b[39mgetvalue()\n",
      "File \u001b[1;32m~\\AppData\\Local\\Programs\\Python\\Python39\\lib\\pprint.py:170\u001b[0m, in \u001b[0;36mPrettyPrinter._format\u001b[1;34m(self, object, stream, indent, allowance, context, level)\u001b[0m\n\u001b[0;32m    168\u001b[0m     \u001b[39mself\u001b[39m\u001b[39m.\u001b[39m_readable \u001b[39m=\u001b[39m \u001b[39mFalse\u001b[39;00m\n\u001b[0;32m    169\u001b[0m     \u001b[39mreturn\u001b[39;00m\n\u001b[1;32m--> 170\u001b[0m rep \u001b[39m=\u001b[39m \u001b[39mself\u001b[39;49m\u001b[39m.\u001b[39;49m_repr(\u001b[39mobject\u001b[39;49m, context, level)\n\u001b[0;32m    171\u001b[0m max_width \u001b[39m=\u001b[39m \u001b[39mself\u001b[39m\u001b[39m.\u001b[39m_width \u001b[39m-\u001b[39m indent \u001b[39m-\u001b[39m allowance\n\u001b[0;32m    172\u001b[0m \u001b[39mif\u001b[39;00m \u001b[39mlen\u001b[39m(rep) \u001b[39m>\u001b[39m max_width:\n",
      "File \u001b[1;32m~\\AppData\\Local\\Programs\\Python\\Python39\\lib\\pprint.py:431\u001b[0m, in \u001b[0;36mPrettyPrinter._repr\u001b[1;34m(self, object, context, level)\u001b[0m\n\u001b[0;32m    430\u001b[0m \u001b[39mdef\u001b[39;00m \u001b[39m_repr\u001b[39m(\u001b[39mself\u001b[39m, \u001b[39mobject\u001b[39m, context, level):\n\u001b[1;32m--> 431\u001b[0m     \u001b[39mrepr\u001b[39m, readable, recursive \u001b[39m=\u001b[39m \u001b[39mself\u001b[39;49m\u001b[39m.\u001b[39;49mformat(\u001b[39mobject\u001b[39;49m, context\u001b[39m.\u001b[39;49mcopy(),\n\u001b[0;32m    432\u001b[0m                                             \u001b[39mself\u001b[39;49m\u001b[39m.\u001b[39;49m_depth, level)\n\u001b[0;32m    433\u001b[0m     \u001b[39mif\u001b[39;00m \u001b[39mnot\u001b[39;00m readable:\n\u001b[0;32m    434\u001b[0m         \u001b[39mself\u001b[39m\u001b[39m.\u001b[39m_readable \u001b[39m=\u001b[39m \u001b[39mFalse\u001b[39;00m\n",
      "File \u001b[1;32mc:\\Users\\lukas\\OneDrive\\Dokumenter\\UNI\\7th_semester\\MLM\\ML-For-Beginners\\.venv\\lib\\site-packages\\sklearn\\utils\\_pprint.py:189\u001b[0m, in \u001b[0;36m_EstimatorPrettyPrinter.format\u001b[1;34m(self, object, context, maxlevels, level)\u001b[0m\n\u001b[0;32m    188\u001b[0m \u001b[39mdef\u001b[39;00m \u001b[39mformat\u001b[39m(\u001b[39mself\u001b[39m, \u001b[39mobject\u001b[39m, context, maxlevels, level):\n\u001b[1;32m--> 189\u001b[0m     \u001b[39mreturn\u001b[39;00m _safe_repr(\n\u001b[0;32m    190\u001b[0m         \u001b[39mobject\u001b[39;49m, context, maxlevels, level, changed_only\u001b[39m=\u001b[39;49m\u001b[39mself\u001b[39;49m\u001b[39m.\u001b[39;49m_changed_only\n\u001b[0;32m    191\u001b[0m     )\n",
      "File \u001b[1;32mc:\\Users\\lukas\\OneDrive\\Dokumenter\\UNI\\7th_semester\\MLM\\ML-For-Beginners\\.venv\\lib\\site-packages\\sklearn\\utils\\_pprint.py:452\u001b[0m, in \u001b[0;36m_safe_repr\u001b[1;34m(object, context, maxlevels, level, changed_only)\u001b[0m\n\u001b[0;32m    448\u001b[0m \u001b[39mfor\u001b[39;00m k, v \u001b[39min\u001b[39;00m items:\n\u001b[0;32m    449\u001b[0m     krepr, kreadable, krecur \u001b[39m=\u001b[39m saferepr(\n\u001b[0;32m    450\u001b[0m         k, context, maxlevels, level, changed_only\u001b[39m=\u001b[39mchanged_only\n\u001b[0;32m    451\u001b[0m     )\n\u001b[1;32m--> 452\u001b[0m     vrepr, vreadable, vrecur \u001b[39m=\u001b[39m saferepr(\n\u001b[0;32m    453\u001b[0m         v, context, maxlevels, level, changed_only\u001b[39m=\u001b[39;49mchanged_only\n\u001b[0;32m    454\u001b[0m     )\n\u001b[0;32m    455\u001b[0m     append(\u001b[39m\"\u001b[39m\u001b[39m%s\u001b[39;00m\u001b[39m=\u001b[39m\u001b[39m%s\u001b[39;00m\u001b[39m\"\u001b[39m \u001b[39m%\u001b[39m (krepr\u001b[39m.\u001b[39mstrip(\u001b[39m\"\u001b[39m\u001b[39m'\u001b[39m\u001b[39m\"\u001b[39m), vrepr))\n\u001b[0;32m    456\u001b[0m     readable \u001b[39m=\u001b[39m readable \u001b[39mand\u001b[39;00m kreadable \u001b[39mand\u001b[39;00m vreadable\n",
      "File \u001b[1;32mc:\\Users\\lukas\\OneDrive\\Dokumenter\\UNI\\7th_semester\\MLM\\ML-For-Beginners\\.venv\\lib\\site-packages\\sklearn\\utils\\_pprint.py:419\u001b[0m, in \u001b[0;36m_safe_repr\u001b[1;34m(object, context, maxlevels, level, changed_only)\u001b[0m\n\u001b[0;32m    417\u001b[0m level \u001b[39m+\u001b[39m\u001b[39m=\u001b[39m \u001b[39m1\u001b[39m\n\u001b[0;32m    418\u001b[0m \u001b[39mfor\u001b[39;00m o \u001b[39min\u001b[39;00m \u001b[39mobject\u001b[39m:\n\u001b[1;32m--> 419\u001b[0m     orepr, oreadable, orecur \u001b[39m=\u001b[39m _safe_repr(\n\u001b[0;32m    420\u001b[0m         o, context, maxlevels, level, changed_only\u001b[39m=\u001b[39;49mchanged_only\n\u001b[0;32m    421\u001b[0m     )\n\u001b[0;32m    422\u001b[0m     append(orepr)\n\u001b[0;32m    423\u001b[0m     \u001b[39mif\u001b[39;00m \u001b[39mnot\u001b[39;00m oreadable:\n",
      "File \u001b[1;32mc:\\Users\\lukas\\OneDrive\\Dokumenter\\UNI\\7th_semester\\MLM\\ML-For-Beginners\\.venv\\lib\\site-packages\\sklearn\\utils\\_pprint.py:419\u001b[0m, in \u001b[0;36m_safe_repr\u001b[1;34m(object, context, maxlevels, level, changed_only)\u001b[0m\n\u001b[0;32m    417\u001b[0m level \u001b[39m+\u001b[39m\u001b[39m=\u001b[39m \u001b[39m1\u001b[39m\n\u001b[0;32m    418\u001b[0m \u001b[39mfor\u001b[39;00m o \u001b[39min\u001b[39;00m \u001b[39mobject\u001b[39m:\n\u001b[1;32m--> 419\u001b[0m     orepr, oreadable, orecur \u001b[39m=\u001b[39m _safe_repr(\n\u001b[0;32m    420\u001b[0m         o, context, maxlevels, level, changed_only\u001b[39m=\u001b[39;49mchanged_only\n\u001b[0;32m    421\u001b[0m     )\n\u001b[0;32m    422\u001b[0m     append(orepr)\n\u001b[0;32m    423\u001b[0m     \u001b[39mif\u001b[39;00m \u001b[39mnot\u001b[39;00m oreadable:\n",
      "File \u001b[1;32mc:\\Users\\lukas\\OneDrive\\Dokumenter\\UNI\\7th_semester\\MLM\\ML-For-Beginners\\.venv\\lib\\site-packages\\sklearn\\utils\\_pprint.py:442\u001b[0m, in \u001b[0;36m_safe_repr\u001b[1;34m(object, context, maxlevels, level, changed_only)\u001b[0m\n\u001b[0;32m    440\u001b[0m     params \u001b[39m=\u001b[39m _changed_params(\u001b[39mobject\u001b[39m)\n\u001b[0;32m    441\u001b[0m \u001b[39melse\u001b[39;00m:\n\u001b[1;32m--> 442\u001b[0m     params \u001b[39m=\u001b[39m \u001b[39mobject\u001b[39;49m\u001b[39m.\u001b[39;49mget_params(deep\u001b[39m=\u001b[39;49m\u001b[39mFalse\u001b[39;49;00m)\n\u001b[0;32m    443\u001b[0m components \u001b[39m=\u001b[39m []\n\u001b[0;32m    444\u001b[0m append \u001b[39m=\u001b[39m components\u001b[39m.\u001b[39mappend\n",
      "File \u001b[1;32mc:\\Users\\lukas\\OneDrive\\Dokumenter\\UNI\\7th_semester\\MLM\\ML-For-Beginners\\.venv\\lib\\site-packages\\sklearn\\base.py:170\u001b[0m, in \u001b[0;36mBaseEstimator.get_params\u001b[1;34m(self, deep)\u001b[0m\n\u001b[0;32m    168\u001b[0m out \u001b[39m=\u001b[39m \u001b[39mdict\u001b[39m()\n\u001b[0;32m    169\u001b[0m \u001b[39mfor\u001b[39;00m key \u001b[39min\u001b[39;00m \u001b[39mself\u001b[39m\u001b[39m.\u001b[39m_get_param_names():\n\u001b[1;32m--> 170\u001b[0m     value \u001b[39m=\u001b[39m \u001b[39mgetattr\u001b[39;49m(\u001b[39mself\u001b[39;49m, key)\n\u001b[0;32m    171\u001b[0m     \u001b[39mif\u001b[39;00m deep \u001b[39mand\u001b[39;00m \u001b[39mhasattr\u001b[39m(value, \u001b[39m\"\u001b[39m\u001b[39mget_params\u001b[39m\u001b[39m\"\u001b[39m) \u001b[39mand\u001b[39;00m \u001b[39mnot\u001b[39;00m \u001b[39misinstance\u001b[39m(value, \u001b[39mtype\u001b[39m):\n\u001b[0;32m    172\u001b[0m         deep_items \u001b[39m=\u001b[39m value\u001b[39m.\u001b[39mget_params()\u001b[39m.\u001b[39mitems()\n",
      "\u001b[1;31mAttributeError\u001b[0m: 'Simple_Imputer' object has no attribute 'target_variable'"
     ]
    }
   ],
   "source": [
    "import pycaret\n",
    "#Setting up the pycaret experiment\n",
    "\n",
    "from pycaret.clustering import *\n",
    "\n",
    "myX = df.loc[:, ('Pos','CS%P15','DPM','DMG%','CSD10','Gold%')]\n",
    "myX['Pos'] = le.fit_transform(myX['Pos'])\n",
    "\n",
    "mys = setup(myX, session_id = 456)"
   ]
  },
  {
   "cell_type": "code",
   "execution_count": null,
   "metadata": {},
   "outputs": [
    {
     "data": {
      "text/html": [],
      "text/plain": [
       "<IPython.core.display.HTML object>"
      ]
     },
     "metadata": {},
     "output_type": "display_data"
    },
    {
     "data": {
      "text/html": [
       "<style type=\"text/css\">\n",
       "</style>\n",
       "<table id=\"T_5f40b\">\n",
       "  <thead>\n",
       "    <tr>\n",
       "      <th class=\"blank level0\" >&nbsp;</th>\n",
       "      <th id=\"T_5f40b_level0_col0\" class=\"col_heading level0 col0\" >Silhouette</th>\n",
       "      <th id=\"T_5f40b_level0_col1\" class=\"col_heading level0 col1\" >Calinski-Harabasz</th>\n",
       "      <th id=\"T_5f40b_level0_col2\" class=\"col_heading level0 col2\" >Davies-Bouldin</th>\n",
       "      <th id=\"T_5f40b_level0_col3\" class=\"col_heading level0 col3\" >Homogeneity</th>\n",
       "      <th id=\"T_5f40b_level0_col4\" class=\"col_heading level0 col4\" >Rand Index</th>\n",
       "      <th id=\"T_5f40b_level0_col5\" class=\"col_heading level0 col5\" >Completeness</th>\n",
       "    </tr>\n",
       "  </thead>\n",
       "  <tbody>\n",
       "    <tr>\n",
       "      <th id=\"T_5f40b_level0_row0\" class=\"row_heading level0 row0\" >0</th>\n",
       "      <td id=\"T_5f40b_row0_col0\" class=\"data row0 col0\" >0.6450</td>\n",
       "      <td id=\"T_5f40b_row0_col1\" class=\"data row0 col1\" >435.8734</td>\n",
       "      <td id=\"T_5f40b_row0_col2\" class=\"data row0 col2\" >0.3517</td>\n",
       "      <td id=\"T_5f40b_row0_col3\" class=\"data row0 col3\" >0</td>\n",
       "      <td id=\"T_5f40b_row0_col4\" class=\"data row0 col4\" >0</td>\n",
       "      <td id=\"T_5f40b_row0_col5\" class=\"data row0 col5\" >0</td>\n",
       "    </tr>\n",
       "  </tbody>\n",
       "</table>\n"
      ],
      "text/plain": [
       "<pandas.io.formats.style.Styler at 0x2b0f89906a0>"
      ]
     },
     "metadata": {},
     "output_type": "display_data"
    },
    {
     "data": {
      "application/vnd.jupyter.widget-view+json": {
       "model_id": "eb4bf4a5008f4f01a5d3d76935cfdc88",
       "version_major": 2,
       "version_minor": 0
      },
      "text/plain": [
       "Processing:   0%|          | 0/3 [00:00<?, ?it/s]"
      ]
     },
     "metadata": {},
     "output_type": "display_data"
    }
   ],
   "source": [
    "# Comparing\n",
    "mykmeans = create_model('kmeans', num_clusters=3)"
   ]
  },
  {
   "cell_type": "code",
   "execution_count": null,
   "metadata": {},
   "outputs": [
    {
     "data": {
      "text/html": [
       "<div>\n",
       "<style scoped>\n",
       "    .dataframe tbody tr th:only-of-type {\n",
       "        vertical-align: middle;\n",
       "    }\n",
       "\n",
       "    .dataframe tbody tr th {\n",
       "        vertical-align: top;\n",
       "    }\n",
       "\n",
       "    .dataframe thead th {\n",
       "        text-align: right;\n",
       "    }\n",
       "</style>\n",
       "<table border=\"1\" class=\"dataframe\">\n",
       "  <thead>\n",
       "    <tr style=\"text-align: right;\">\n",
       "      <th></th>\n",
       "      <th>Pos</th>\n",
       "      <th>CS%P15</th>\n",
       "      <th>DPM</th>\n",
       "      <th>DMG%</th>\n",
       "      <th>CSD10</th>\n",
       "      <th>Gold%</th>\n",
       "      <th>Cluster</th>\n",
       "    </tr>\n",
       "  </thead>\n",
       "  <tbody>\n",
       "    <tr>\n",
       "      <th>216</th>\n",
       "      <td>1</td>\n",
       "      <td>12.500000</td>\n",
       "      <td>251.0</td>\n",
       "      <td>16.200001</td>\n",
       "      <td>-6.0</td>\n",
       "      <td>16.500000</td>\n",
       "      <td>Cluster 1</td>\n",
       "    </tr>\n",
       "    <tr>\n",
       "      <th>217</th>\n",
       "      <td>0</td>\n",
       "      <td>38.700001</td>\n",
       "      <td>344.0</td>\n",
       "      <td>22.400000</td>\n",
       "      <td>-8.0</td>\n",
       "      <td>32.799999</td>\n",
       "      <td>Cluster 0</td>\n",
       "    </tr>\n",
       "    <tr>\n",
       "      <th>218</th>\n",
       "      <td>4</td>\n",
       "      <td>23.900000</td>\n",
       "      <td>440.0</td>\n",
       "      <td>26.100000</td>\n",
       "      <td>-1.7</td>\n",
       "      <td>23.200001</td>\n",
       "      <td>Cluster 0</td>\n",
       "    </tr>\n",
       "    <tr>\n",
       "      <th>219</th>\n",
       "      <td>1</td>\n",
       "      <td>9.700000</td>\n",
       "      <td>274.0</td>\n",
       "      <td>15.000000</td>\n",
       "      <td>3.7</td>\n",
       "      <td>15.200000</td>\n",
       "      <td>Cluster 1</td>\n",
       "    </tr>\n",
       "    <tr>\n",
       "      <th>220</th>\n",
       "      <td>1</td>\n",
       "      <td>11.100000</td>\n",
       "      <td>247.0</td>\n",
       "      <td>13.800000</td>\n",
       "      <td>-3.4</td>\n",
       "      <td>13.800000</td>\n",
       "      <td>Cluster 1</td>\n",
       "    </tr>\n",
       "  </tbody>\n",
       "</table>\n",
       "</div>"
      ],
      "text/plain": [
       "     Pos     CS%P15    DPM       DMG%  CSD10      Gold%    Cluster\n",
       "216    1  12.500000  251.0  16.200001   -6.0  16.500000  Cluster 1\n",
       "217    0  38.700001  344.0  22.400000   -8.0  32.799999  Cluster 0\n",
       "218    4  23.900000  440.0  26.100000   -1.7  23.200001  Cluster 0\n",
       "219    1   9.700000  274.0  15.000000    3.7  15.200000  Cluster 1\n",
       "220    1  11.100000  247.0  13.800000   -3.4  13.800000  Cluster 1"
      ]
     },
     "execution_count": 384,
     "metadata": {},
     "output_type": "execute_result"
    }
   ],
   "source": [
    "mykmeans_cluster = assign_model(mykmeans)\n",
    "mykmeans_cluster.tail()"
   ]
  },
  {
   "cell_type": "code",
   "execution_count": null,
   "metadata": {},
   "outputs": [
    {
     "data": {
      "application/vnd.jupyter.widget-view+json": {
       "model_id": "08a0303a963e494fa37720aed2193dff",
       "version_major": 2,
       "version_minor": 0
      },
      "text/plain": [
       "interactive(children=(ToggleButtons(description='Plot Type:', icons=('',), options=(('Pipeline Plot', 'pipelin…"
      ]
     },
     "metadata": {},
     "output_type": "display_data"
    },
    {
     "data": {
      "application/vnd.plotly.v1+json": {
       "config": {
        "plotlyServerURL": "https://plot.ly"
       },
       "data": [
        {
         "customdata": [
          [
           2
          ],
          [
           2
          ],
          [
           4
          ],
          [
           0
          ],
          [
           2
          ],
          [
           1
          ],
          [
           0
          ],
          [
           2
          ],
          [
           2
          ],
          [
           2
          ],
          [
           1
          ],
          [
           2
          ],
          [
           2
          ],
          [
           0
          ],
          [
           2
          ],
          [
           4
          ],
          [
           0
          ],
          [
           2
          ],
          [
           1
          ],
          [
           2
          ],
          [
           2
          ],
          [
           0
          ],
          [
           4
          ],
          [
           4
          ],
          [
           4
          ],
          [
           2
          ],
          [
           4
          ],
          [
           0
          ],
          [
           4
          ],
          [
           2
          ],
          [
           4
          ],
          [
           4
          ],
          [
           4
          ],
          [
           0
          ],
          [
           4
          ],
          [
           0
          ],
          [
           4
          ],
          [
           4
          ],
          [
           0
          ],
          [
           0
          ],
          [
           2
          ],
          [
           0
          ],
          [
           0
          ],
          [
           3
          ],
          [
           0
          ],
          [
           0
          ],
          [
           4
          ],
          [
           0
          ],
          [
           4
          ],
          [
           2
          ],
          [
           4
          ],
          [
           4
          ],
          [
           2
          ],
          [
           0
          ],
          [
           2
          ],
          [
           2
          ],
          [
           4
          ],
          [
           0
          ],
          [
           0
          ],
          [
           0
          ],
          [
           4
          ],
          [
           0
          ],
          [
           4
          ],
          [
           2
          ],
          [
           2
          ],
          [
           2
          ],
          [
           0
          ],
          [
           4
          ],
          [
           4
          ],
          [
           2
          ],
          [
           0
          ],
          [
           4
          ],
          [
           0
          ],
          [
           0
          ],
          [
           4
          ],
          [
           0
          ],
          [
           4
          ],
          [
           4
          ],
          [
           2
          ],
          [
           4
          ],
          [
           2
          ],
          [
           2
          ],
          [
           0
          ],
          [
           2
          ],
          [
           2
          ],
          [
           2
          ],
          [
           0
          ],
          [
           4
          ],
          [
           4
          ],
          [
           0
          ],
          [
           2
          ],
          [
           2
          ],
          [
           0
          ],
          [
           2
          ],
          [
           2
          ],
          [
           4
          ],
          [
           2
          ],
          [
           0
          ],
          [
           4
          ],
          [
           4
          ],
          [
           4
          ],
          [
           4
          ],
          [
           2
          ],
          [
           2
          ],
          [
           0
          ],
          [
           2
          ],
          [
           4
          ],
          [
           0
          ],
          [
           4
          ],
          [
           4
          ],
          [
           2
          ],
          [
           0
          ],
          [
           2
          ],
          [
           0
          ],
          [
           4
          ],
          [
           4
          ],
          [
           0
          ],
          [
           0
          ],
          [
           2
          ],
          [
           1
          ],
          [
           0
          ],
          [
           2
          ],
          [
           2
          ],
          [
           4
          ],
          [
           0
          ],
          [
           2
          ],
          [
           0
          ],
          [
           0
          ],
          [
           2
          ],
          [
           0
          ],
          [
           4
          ],
          [
           2
          ],
          [
           2
          ],
          [
           2
          ],
          [
           0
          ]
         ],
         "hovertemplate": "Cluster=Cluster 0<br>PCA1=%{x}<br>PCA2=%{y}<br>Feature=%{customdata[0]}<extra></extra>",
         "legendgroup": "Cluster 0",
         "marker": {
          "color": "#636efa",
          "opacity": 0.5,
          "symbol": "circle"
         },
         "mode": "markers",
         "name": "Cluster 0",
         "orientation": "v",
         "showlegend": true,
         "textposition": "top center",
         "type": "scatter",
         "x": [
          47.548023,
          154.29285,
          191.23203,
          87.824135,
          144.67375,
          -33.40914,
          134.01619,
          79.86699,
          93.56127,
          301.169,
          186.71278,
          69.84057,
          340.69714,
          315.9455,
          164.58835,
          90.48634,
          58.81586,
          69.62441,
          3.7050776,
          -12.182178,
          112.65844,
          19.345354,
          60.179585,
          42.284622,
          170.40196,
          139.50351,
          97.657906,
          111.97351,
          123.14864,
          19.516817,
          17.11594,
          30.400433,
          14.752974,
          194.946,
          -20.381039,
          77.538216,
          -33.54634,
          79.25173,
          59.903316,
          52.624363,
          209.3485,
          32.923244,
          137.71852,
          113.54663,
          197.96278,
          192.97308,
          57.41786,
          67.6964,
          96.45098,
          26.377666,
          -15.489355,
          195.08768,
          88.79416,
          66.90029,
          190.57164,
          -1.4579277,
          60.287212,
          176.29843,
          70.811615,
          -24.507706,
          70.450096,
          229.86093,
          65.13251,
          91.30816,
          153.69067,
          24.499313,
          110.71125,
          40.374485,
          -13.364617,
          42.715614,
          214.07483,
          44.211113,
          64.86174,
          165.77936,
          86.02068,
          0.7993151,
          121.0969,
          126.59858,
          150.09239,
          126.275,
          23.663391,
          252.5117,
          19.990631,
          162.50668,
          99.299355,
          -17.053589,
          152.58412,
          93.428604,
          124.41952,
          133.07382,
          147.08363,
          76.41766,
          77.10718,
          -10.1480465,
          22.799171,
          15.386796,
          95.63572,
          113.04571,
          -18.736618,
          11.288203,
          111.27841,
          113.36474,
          54.62884,
          62.434826,
          151.87938,
          227.31125,
          -15.635039,
          88.94426,
          74.27162,
          78.59933,
          180.19104,
          150.01097,
          -24.487337,
          41.615875,
          -35.412888,
          -0.624721,
          91.83885,
          -1.1987957,
          120.52222,
          -25.290545,
          52.972744,
          90.41349,
          64.68343,
          48.185143,
          223.66353,
          134.51036,
          206.91313,
          -3.4068718,
          155.2534,
          248.68182,
          15.126234,
          198.53273,
          94.738045,
          64.5241,
          76.51485
         ],
         "xaxis": "x",
         "y": [
          -2.3673549,
          -4.5811114,
          -23.08371,
          -0.80703485,
          1.8867444,
          -5.2656703,
          1.515794,
          12.146794,
          -0.18624492,
          -1.6282166,
          -27.267683,
          -3.7870488,
          -22.182764,
          5.8029866,
          3.2794201,
          -8.256824,
          1.0117563,
          -1.324388,
          8.180768,
          -29.931036,
          -0.6808877,
          14.463676,
          4.5483875,
          -10.29899,
          8.4138775,
          -1.478988,
          13.612197,
          11.040223,
          -2.5641236,
          16.188042,
          -3.617364,
          5.172479,
          -22.645445,
          4.7610207,
          1.8270917,
          -12.845485,
          -4.5724254,
          -1.0470678,
          -7.2424135,
          -0.9320207,
          2.7557988,
          9.527412,
          -3.9988022,
          -5.832163,
          3.7299588,
          1.1583865,
          12.369423,
          -1.037471,
          10.538317,
          -11.83901,
          3.1563098,
          2.3717158,
          7.940054,
          -0.05215081,
          -4.204339,
          -4.437029,
          -0.27952507,
          3.0066197,
          10.89708,
          -4.3571877,
          -1.3395133,
          -3.9874053,
          -6.140444,
          -2.3966436,
          4.183278,
          -9.052968,
          -2.5489616,
          -4.3769364,
          3.5136356,
          -12.090434,
          2.9848368,
          0.6069905,
          -11.838242,
          5.643748,
          4.171632,
          0.76335067,
          -5.9813066,
          18.854239,
          2.413308,
          -11.133456,
          -4.2282677,
          -1.109352,
          3.8040051,
          -1.716785,
          -1.5784947,
          -0.7385663,
          -8.950791,
          3.3450563,
          15.996825,
          2.3808417,
          14.8304,
          -0.19526981,
          8.572848,
          -7.616258,
          -1.486938,
          1.0195613,
          1.2389311,
          3.5254893,
          -0.63753635,
          -4.206461,
          10.71042,
          -0.0305905,
          6.081997,
          -3.7325985,
          -2.9174006,
          3.68348,
          2.8312292,
          -2.533142,
          -9.7794285,
          5.9140334,
          1.7199804,
          1.5575827,
          -11.69604,
          -8.479028,
          0.49009484,
          -15.067668,
          3.3606274,
          -5.521832,
          3.8293142,
          -0.5234168,
          -2.1557007,
          2.771659,
          4.119673,
          -8.36924,
          2.7935083,
          0.5565454,
          -2.65257,
          68.495514,
          -5.5958433,
          -2.9282503,
          17.674997,
          -1.0386115,
          2.9111373,
          -2.7442832,
          -4.59463
         ],
         "yaxis": "y"
        },
        {
         "customdata": [
          [
           1
          ],
          [
           1
          ],
          [
           3
          ],
          [
           3
          ],
          [
           3
          ],
          [
           3
          ],
          [
           3
          ],
          [
           3
          ],
          [
           3
          ],
          [
           3
          ],
          [
           1
          ],
          [
           1
          ],
          [
           3
          ],
          [
           1
          ],
          [
           3
          ],
          [
           1
          ],
          [
           1
          ],
          [
           3
          ],
          [
           1
          ],
          [
           1
          ],
          [
           1
          ],
          [
           1
          ],
          [
           3
          ],
          [
           1
          ],
          [
           3
          ],
          [
           1
          ],
          [
           3
          ],
          [
           3
          ],
          [
           3
          ],
          [
           3
          ],
          [
           1
          ],
          [
           1
          ],
          [
           3
          ],
          [
           1
          ],
          [
           1
          ],
          [
           3
          ],
          [
           1
          ],
          [
           3
          ],
          [
           1
          ],
          [
           1
          ],
          [
           1
          ],
          [
           3
          ],
          [
           3
          ],
          [
           1
          ],
          [
           3
          ],
          [
           3
          ],
          [
           1
          ],
          [
           3
          ],
          [
           3
          ],
          [
           3
          ],
          [
           1
          ],
          [
           3
          ],
          [
           3
          ],
          [
           1
          ],
          [
           0
          ],
          [
           3
          ],
          [
           3
          ],
          [
           1
          ],
          [
           3
          ],
          [
           1
          ],
          [
           3
          ],
          [
           1
          ],
          [
           3
          ],
          [
           1
          ],
          [
           3
          ],
          [
           1
          ],
          [
           1
          ],
          [
           2
          ],
          [
           3
          ],
          [
           3
          ],
          [
           1
          ],
          [
           3
          ],
          [
           3
          ],
          [
           4
          ],
          [
           1
          ],
          [
           3
          ],
          [
           1
          ],
          [
           3
          ],
          [
           3
          ],
          [
           3
          ],
          [
           4
          ],
          [
           3
          ],
          [
           3
          ],
          [
           1
          ]
         ],
         "hovertemplate": "Cluster=Cluster 1<br>PCA1=%{x}<br>PCA2=%{y}<br>Feature=%{customdata[0]}<extra></extra>",
         "legendgroup": "Cluster 1",
         "marker": {
          "color": "#EF553B",
          "opacity": 0.5,
          "symbol": "circle"
         },
         "mode": "markers",
         "name": "Cluster 1",
         "orientation": "v",
         "showlegend": true,
         "textposition": "top center",
         "type": "scatter",
         "x": [
          -149.23463,
          -88.44366,
          -81.81512,
          -212.84454,
          -241.79349,
          -235.80092,
          -209.82683,
          -258.70908,
          -211.93642,
          -231.94617,
          -181.18674,
          -137.23743,
          -162.8225,
          -70.37729,
          -129.94731,
          -160.48027,
          -70.99075,
          -234.79189,
          -176.22272,
          -134.07088,
          -119.25481,
          -115.240974,
          -235.8522,
          -126.16824,
          -221.84692,
          -134.37822,
          -227.9178,
          -206.92647,
          -244.8278,
          -258.80447,
          -150.40018,
          -191.32748,
          -227.59624,
          -73.38748,
          -47.223766,
          -206.81516,
          -118.07254,
          -161.81113,
          -84.27602,
          -134.0868,
          -55.465614,
          -218.73997,
          -198.87306,
          -68.157425,
          -251.80132,
          -224.85638,
          -156.37968,
          -223.82994,
          -84.06547,
          -78.92987,
          -215.31393,
          -266.60568,
          -263.69138,
          -160.38171,
          -87.49518,
          -136.97057,
          -234.8519,
          -107.29336,
          -211.83398,
          -143.24142,
          -190.89928,
          -158.14655,
          -269.85657,
          -96.473694,
          -174.93413,
          -179.30188,
          -135.38454,
          -44.99118,
          -182.95013,
          -249.76459,
          -134.40237,
          -207.78963,
          -238.89655,
          -49.329266,
          -123.47243,
          -223.66402,
          -111.307335,
          -201.97665,
          -91.88042,
          -222.86766,
          -44.55978,
          -231.73782,
          -213.93144,
          -149.38986
         ],
         "xaxis": "x",
         "y": [
          3.48963,
          -3.2856867,
          2.952021,
          -3.4510086,
          -0.023616586,
          3.1895392,
          2.1822782,
          3.7127845,
          -3.5173404,
          0.025690503,
          3.5525017,
          4.283915,
          5.1908407,
          -0.61778355,
          2.7126372,
          7.9772596,
          7.0545554,
          0.654428,
          -51.089172,
          10.806018,
          -4.8293653,
          -0.6206593,
          0.96410733,
          -1.8279998,
          3.6666338,
          -6.2312512,
          -0.99522525,
          -1.3967274,
          -4.1687303,
          2.704054,
          -7.453025,
          0.046321202,
          12.691799,
          -5.5262027,
          2.9360783,
          2.7825181,
          2.7084997,
          0.64548486,
          2.2285771,
          1.5367701,
          0.64665765,
          9.114343,
          8.135582,
          5.4020567,
          6.648021,
          -2.5458312,
          6.69388,
          7.872204,
          -6.005975,
          -52.567482,
          1.1014668,
          8.8951235,
          6.4108706,
          -0.60622585,
          -22.927633,
          -2.2080865,
          -8.104168,
          2.9223104,
          -0.622863,
          2.6466806,
          -0.907954,
          2.9174705,
          2.304913,
          4.1315246,
          -6.0944333,
          -1.0971227,
          0.5624573,
          15.959968,
          -0.0099206325,
          1.1604418,
          0.88569075,
          4.4707375,
          -8.440613,
          2.8577287,
          -2.4826376,
          3.1534793,
          0.5680801,
          6.189076,
          7.214064,
          5.0712366,
          -2.2708406,
          1.2079467,
          -6.3317204,
          -0.4222418
         ],
         "yaxis": "y"
        },
        {
         "customdata": [
          [
           2
          ],
          [
           0
          ]
         ],
         "hovertemplate": "Cluster=Cluster 2<br>PCA1=%{x}<br>PCA2=%{y}<br>Feature=%{customdata[0]}<extra></extra>",
         "legendgroup": "Cluster 2",
         "marker": {
          "color": "#00cc96",
          "opacity": 0.5,
          "symbol": "circle"
         },
         "mode": "markers",
         "name": "Cluster 2",
         "orientation": "v",
         "showlegend": true,
         "textposition": "top center",
         "type": "scatter",
         "x": [
          814.4337,
          765.9077
         ],
         "xaxis": "x",
         "y": [
          9.0678005,
          3.4629242
         ],
         "yaxis": "y"
        }
       ],
       "layout": {
        "height": 600,
        "legend": {
         "title": {
          "text": "Cluster"
         },
         "tracegroupgap": 0
        },
        "margin": {
         "t": 60
        },
        "plot_bgcolor": "rgb(240,240,240)",
        "template": {
         "data": {
          "bar": [
           {
            "error_x": {
             "color": "#2a3f5f"
            },
            "error_y": {
             "color": "#2a3f5f"
            },
            "marker": {
             "line": {
              "color": "#E5ECF6",
              "width": 0.5
             },
             "pattern": {
              "fillmode": "overlay",
              "size": 10,
              "solidity": 0.2
             }
            },
            "type": "bar"
           }
          ],
          "barpolar": [
           {
            "marker": {
             "line": {
              "color": "#E5ECF6",
              "width": 0.5
             },
             "pattern": {
              "fillmode": "overlay",
              "size": 10,
              "solidity": 0.2
             }
            },
            "type": "barpolar"
           }
          ],
          "carpet": [
           {
            "aaxis": {
             "endlinecolor": "#2a3f5f",
             "gridcolor": "white",
             "linecolor": "white",
             "minorgridcolor": "white",
             "startlinecolor": "#2a3f5f"
            },
            "baxis": {
             "endlinecolor": "#2a3f5f",
             "gridcolor": "white",
             "linecolor": "white",
             "minorgridcolor": "white",
             "startlinecolor": "#2a3f5f"
            },
            "type": "carpet"
           }
          ],
          "choropleth": [
           {
            "colorbar": {
             "outlinewidth": 0,
             "ticks": ""
            },
            "type": "choropleth"
           }
          ],
          "contour": [
           {
            "colorbar": {
             "outlinewidth": 0,
             "ticks": ""
            },
            "colorscale": [
             [
              0,
              "#0d0887"
             ],
             [
              0.1111111111111111,
              "#46039f"
             ],
             [
              0.2222222222222222,
              "#7201a8"
             ],
             [
              0.3333333333333333,
              "#9c179e"
             ],
             [
              0.4444444444444444,
              "#bd3786"
             ],
             [
              0.5555555555555556,
              "#d8576b"
             ],
             [
              0.6666666666666666,
              "#ed7953"
             ],
             [
              0.7777777777777778,
              "#fb9f3a"
             ],
             [
              0.8888888888888888,
              "#fdca26"
             ],
             [
              1,
              "#f0f921"
             ]
            ],
            "type": "contour"
           }
          ],
          "contourcarpet": [
           {
            "colorbar": {
             "outlinewidth": 0,
             "ticks": ""
            },
            "type": "contourcarpet"
           }
          ],
          "heatmap": [
           {
            "colorbar": {
             "outlinewidth": 0,
             "ticks": ""
            },
            "colorscale": [
             [
              0,
              "#0d0887"
             ],
             [
              0.1111111111111111,
              "#46039f"
             ],
             [
              0.2222222222222222,
              "#7201a8"
             ],
             [
              0.3333333333333333,
              "#9c179e"
             ],
             [
              0.4444444444444444,
              "#bd3786"
             ],
             [
              0.5555555555555556,
              "#d8576b"
             ],
             [
              0.6666666666666666,
              "#ed7953"
             ],
             [
              0.7777777777777778,
              "#fb9f3a"
             ],
             [
              0.8888888888888888,
              "#fdca26"
             ],
             [
              1,
              "#f0f921"
             ]
            ],
            "type": "heatmap"
           }
          ],
          "heatmapgl": [
           {
            "colorbar": {
             "outlinewidth": 0,
             "ticks": ""
            },
            "colorscale": [
             [
              0,
              "#0d0887"
             ],
             [
              0.1111111111111111,
              "#46039f"
             ],
             [
              0.2222222222222222,
              "#7201a8"
             ],
             [
              0.3333333333333333,
              "#9c179e"
             ],
             [
              0.4444444444444444,
              "#bd3786"
             ],
             [
              0.5555555555555556,
              "#d8576b"
             ],
             [
              0.6666666666666666,
              "#ed7953"
             ],
             [
              0.7777777777777778,
              "#fb9f3a"
             ],
             [
              0.8888888888888888,
              "#fdca26"
             ],
             [
              1,
              "#f0f921"
             ]
            ],
            "type": "heatmapgl"
           }
          ],
          "histogram": [
           {
            "marker": {
             "pattern": {
              "fillmode": "overlay",
              "size": 10,
              "solidity": 0.2
             }
            },
            "type": "histogram"
           }
          ],
          "histogram2d": [
           {
            "colorbar": {
             "outlinewidth": 0,
             "ticks": ""
            },
            "colorscale": [
             [
              0,
              "#0d0887"
             ],
             [
              0.1111111111111111,
              "#46039f"
             ],
             [
              0.2222222222222222,
              "#7201a8"
             ],
             [
              0.3333333333333333,
              "#9c179e"
             ],
             [
              0.4444444444444444,
              "#bd3786"
             ],
             [
              0.5555555555555556,
              "#d8576b"
             ],
             [
              0.6666666666666666,
              "#ed7953"
             ],
             [
              0.7777777777777778,
              "#fb9f3a"
             ],
             [
              0.8888888888888888,
              "#fdca26"
             ],
             [
              1,
              "#f0f921"
             ]
            ],
            "type": "histogram2d"
           }
          ],
          "histogram2dcontour": [
           {
            "colorbar": {
             "outlinewidth": 0,
             "ticks": ""
            },
            "colorscale": [
             [
              0,
              "#0d0887"
             ],
             [
              0.1111111111111111,
              "#46039f"
             ],
             [
              0.2222222222222222,
              "#7201a8"
             ],
             [
              0.3333333333333333,
              "#9c179e"
             ],
             [
              0.4444444444444444,
              "#bd3786"
             ],
             [
              0.5555555555555556,
              "#d8576b"
             ],
             [
              0.6666666666666666,
              "#ed7953"
             ],
             [
              0.7777777777777778,
              "#fb9f3a"
             ],
             [
              0.8888888888888888,
              "#fdca26"
             ],
             [
              1,
              "#f0f921"
             ]
            ],
            "type": "histogram2dcontour"
           }
          ],
          "mesh3d": [
           {
            "colorbar": {
             "outlinewidth": 0,
             "ticks": ""
            },
            "type": "mesh3d"
           }
          ],
          "parcoords": [
           {
            "line": {
             "colorbar": {
              "outlinewidth": 0,
              "ticks": ""
             }
            },
            "type": "parcoords"
           }
          ],
          "pie": [
           {
            "automargin": true,
            "type": "pie"
           }
          ],
          "scatter": [
           {
            "fillpattern": {
             "fillmode": "overlay",
             "size": 10,
             "solidity": 0.2
            },
            "type": "scatter"
           }
          ],
          "scatter3d": [
           {
            "line": {
             "colorbar": {
              "outlinewidth": 0,
              "ticks": ""
             }
            },
            "marker": {
             "colorbar": {
              "outlinewidth": 0,
              "ticks": ""
             }
            },
            "type": "scatter3d"
           }
          ],
          "scattercarpet": [
           {
            "marker": {
             "colorbar": {
              "outlinewidth": 0,
              "ticks": ""
             }
            },
            "type": "scattercarpet"
           }
          ],
          "scattergeo": [
           {
            "marker": {
             "colorbar": {
              "outlinewidth": 0,
              "ticks": ""
             }
            },
            "type": "scattergeo"
           }
          ],
          "scattergl": [
           {
            "marker": {
             "colorbar": {
              "outlinewidth": 0,
              "ticks": ""
             }
            },
            "type": "scattergl"
           }
          ],
          "scattermapbox": [
           {
            "marker": {
             "colorbar": {
              "outlinewidth": 0,
              "ticks": ""
             }
            },
            "type": "scattermapbox"
           }
          ],
          "scatterpolar": [
           {
            "marker": {
             "colorbar": {
              "outlinewidth": 0,
              "ticks": ""
             }
            },
            "type": "scatterpolar"
           }
          ],
          "scatterpolargl": [
           {
            "marker": {
             "colorbar": {
              "outlinewidth": 0,
              "ticks": ""
             }
            },
            "type": "scatterpolargl"
           }
          ],
          "scatterternary": [
           {
            "marker": {
             "colorbar": {
              "outlinewidth": 0,
              "ticks": ""
             }
            },
            "type": "scatterternary"
           }
          ],
          "surface": [
           {
            "colorbar": {
             "outlinewidth": 0,
             "ticks": ""
            },
            "colorscale": [
             [
              0,
              "#0d0887"
             ],
             [
              0.1111111111111111,
              "#46039f"
             ],
             [
              0.2222222222222222,
              "#7201a8"
             ],
             [
              0.3333333333333333,
              "#9c179e"
             ],
             [
              0.4444444444444444,
              "#bd3786"
             ],
             [
              0.5555555555555556,
              "#d8576b"
             ],
             [
              0.6666666666666666,
              "#ed7953"
             ],
             [
              0.7777777777777778,
              "#fb9f3a"
             ],
             [
              0.8888888888888888,
              "#fdca26"
             ],
             [
              1,
              "#f0f921"
             ]
            ],
            "type": "surface"
           }
          ],
          "table": [
           {
            "cells": {
             "fill": {
              "color": "#EBF0F8"
             },
             "line": {
              "color": "white"
             }
            },
            "header": {
             "fill": {
              "color": "#C8D4E3"
             },
             "line": {
              "color": "white"
             }
            },
            "type": "table"
           }
          ]
         },
         "layout": {
          "annotationdefaults": {
           "arrowcolor": "#2a3f5f",
           "arrowhead": 0,
           "arrowwidth": 1
          },
          "autotypenumbers": "strict",
          "coloraxis": {
           "colorbar": {
            "outlinewidth": 0,
            "ticks": ""
           }
          },
          "colorscale": {
           "diverging": [
            [
             0,
             "#8e0152"
            ],
            [
             0.1,
             "#c51b7d"
            ],
            [
             0.2,
             "#de77ae"
            ],
            [
             0.3,
             "#f1b6da"
            ],
            [
             0.4,
             "#fde0ef"
            ],
            [
             0.5,
             "#f7f7f7"
            ],
            [
             0.6,
             "#e6f5d0"
            ],
            [
             0.7,
             "#b8e186"
            ],
            [
             0.8,
             "#7fbc41"
            ],
            [
             0.9,
             "#4d9221"
            ],
            [
             1,
             "#276419"
            ]
           ],
           "sequential": [
            [
             0,
             "#0d0887"
            ],
            [
             0.1111111111111111,
             "#46039f"
            ],
            [
             0.2222222222222222,
             "#7201a8"
            ],
            [
             0.3333333333333333,
             "#9c179e"
            ],
            [
             0.4444444444444444,
             "#bd3786"
            ],
            [
             0.5555555555555556,
             "#d8576b"
            ],
            [
             0.6666666666666666,
             "#ed7953"
            ],
            [
             0.7777777777777778,
             "#fb9f3a"
            ],
            [
             0.8888888888888888,
             "#fdca26"
            ],
            [
             1,
             "#f0f921"
            ]
           ],
           "sequentialminus": [
            [
             0,
             "#0d0887"
            ],
            [
             0.1111111111111111,
             "#46039f"
            ],
            [
             0.2222222222222222,
             "#7201a8"
            ],
            [
             0.3333333333333333,
             "#9c179e"
            ],
            [
             0.4444444444444444,
             "#bd3786"
            ],
            [
             0.5555555555555556,
             "#d8576b"
            ],
            [
             0.6666666666666666,
             "#ed7953"
            ],
            [
             0.7777777777777778,
             "#fb9f3a"
            ],
            [
             0.8888888888888888,
             "#fdca26"
            ],
            [
             1,
             "#f0f921"
            ]
           ]
          },
          "colorway": [
           "#636efa",
           "#EF553B",
           "#00cc96",
           "#ab63fa",
           "#FFA15A",
           "#19d3f3",
           "#FF6692",
           "#B6E880",
           "#FF97FF",
           "#FECB52"
          ],
          "font": {
           "color": "#2a3f5f"
          },
          "geo": {
           "bgcolor": "white",
           "lakecolor": "white",
           "landcolor": "#E5ECF6",
           "showlakes": true,
           "showland": true,
           "subunitcolor": "white"
          },
          "hoverlabel": {
           "align": "left"
          },
          "hovermode": "closest",
          "mapbox": {
           "style": "light"
          },
          "paper_bgcolor": "white",
          "plot_bgcolor": "#E5ECF6",
          "polar": {
           "angularaxis": {
            "gridcolor": "white",
            "linecolor": "white",
            "ticks": ""
           },
           "bgcolor": "#E5ECF6",
           "radialaxis": {
            "gridcolor": "white",
            "linecolor": "white",
            "ticks": ""
           }
          },
          "scene": {
           "xaxis": {
            "backgroundcolor": "#E5ECF6",
            "gridcolor": "white",
            "gridwidth": 2,
            "linecolor": "white",
            "showbackground": true,
            "ticks": "",
            "zerolinecolor": "white"
           },
           "yaxis": {
            "backgroundcolor": "#E5ECF6",
            "gridcolor": "white",
            "gridwidth": 2,
            "linecolor": "white",
            "showbackground": true,
            "ticks": "",
            "zerolinecolor": "white"
           },
           "zaxis": {
            "backgroundcolor": "#E5ECF6",
            "gridcolor": "white",
            "gridwidth": 2,
            "linecolor": "white",
            "showbackground": true,
            "ticks": "",
            "zerolinecolor": "white"
           }
          },
          "shapedefaults": {
           "line": {
            "color": "#2a3f5f"
           }
          },
          "ternary": {
           "aaxis": {
            "gridcolor": "white",
            "linecolor": "white",
            "ticks": ""
           },
           "baxis": {
            "gridcolor": "white",
            "linecolor": "white",
            "ticks": ""
           },
           "bgcolor": "#E5ECF6",
           "caxis": {
            "gridcolor": "white",
            "linecolor": "white",
            "ticks": ""
           }
          },
          "title": {
           "x": 0.05
          },
          "xaxis": {
           "automargin": true,
           "gridcolor": "white",
           "linecolor": "white",
           "ticks": "",
           "title": {
            "standoff": 15
           },
           "zerolinecolor": "white",
           "zerolinewidth": 2
          },
          "yaxis": {
           "automargin": true,
           "gridcolor": "white",
           "linecolor": "white",
           "ticks": "",
           "title": {
            "standoff": 15
           },
           "zerolinecolor": "white",
           "zerolinewidth": 2
          }
         }
        },
        "title": {
         "text": "2D Cluster PCA Plot"
        },
        "xaxis": {
         "anchor": "y",
         "domain": [
          0,
          1
         ],
         "title": {
          "text": "PCA1"
         }
        },
        "yaxis": {
         "anchor": "x",
         "domain": [
          0,
          1
         ],
         "title": {
          "text": "PCA2"
         }
        }
       }
      }
     },
     "metadata": {},
     "output_type": "display_data"
    }
   ],
   "source": [
    "evaluate_model(mykmeans)"
   ]
  },
  {
   "cell_type": "code",
   "execution_count": null,
   "metadata": {},
   "outputs": [
    {
     "data": {
      "text/html": [
       "<div>\n",
       "<style scoped>\n",
       "    .dataframe tbody tr th:only-of-type {\n",
       "        vertical-align: middle;\n",
       "    }\n",
       "\n",
       "    .dataframe tbody tr th {\n",
       "        vertical-align: top;\n",
       "    }\n",
       "\n",
       "    .dataframe thead th {\n",
       "        text-align: right;\n",
       "    }\n",
       "</style>\n",
       "<table border=\"1\" class=\"dataframe\">\n",
       "  <thead>\n",
       "    <tr style=\"text-align: right;\">\n",
       "      <th></th>\n",
       "      <th>Pos</th>\n",
       "      <th>CS%P15</th>\n",
       "      <th>DPM</th>\n",
       "      <th>DMG%</th>\n",
       "      <th>CSD10</th>\n",
       "      <th>Gold%</th>\n",
       "      <th>Cluster</th>\n",
       "    </tr>\n",
       "  </thead>\n",
       "  <tbody>\n",
       "    <tr>\n",
       "      <th>0</th>\n",
       "      <td>2.0</td>\n",
       "      <td>26.600000</td>\n",
       "      <td>417.0</td>\n",
       "      <td>24.600000</td>\n",
       "      <td>-3.3</td>\n",
       "      <td>22.500000</td>\n",
       "      <td>0</td>\n",
       "    </tr>\n",
       "    <tr>\n",
       "      <th>1</th>\n",
       "      <td>4.0</td>\n",
       "      <td>22.400000</td>\n",
       "      <td>354.0</td>\n",
       "      <td>21.799999</td>\n",
       "      <td>1.7</td>\n",
       "      <td>20.900000</td>\n",
       "      <td>0</td>\n",
       "    </tr>\n",
       "    <tr>\n",
       "      <th>2</th>\n",
       "      <td>0.0</td>\n",
       "      <td>33.400002</td>\n",
       "      <td>458.0</td>\n",
       "      <td>25.600000</td>\n",
       "      <td>-3.9</td>\n",
       "      <td>26.900000</td>\n",
       "      <td>0</td>\n",
       "    </tr>\n",
       "    <tr>\n",
       "      <th>3</th>\n",
       "      <td>1.0</td>\n",
       "      <td>13.200000</td>\n",
       "      <td>255.0</td>\n",
       "      <td>14.900000</td>\n",
       "      <td>-1.8</td>\n",
       "      <td>17.100000</td>\n",
       "      <td>1</td>\n",
       "    </tr>\n",
       "    <tr>\n",
       "      <th>4</th>\n",
       "      <td>4.0</td>\n",
       "      <td>23.600000</td>\n",
       "      <td>444.0</td>\n",
       "      <td>25.500000</td>\n",
       "      <td>-10.0</td>\n",
       "      <td>20.400000</td>\n",
       "      <td>0</td>\n",
       "    </tr>\n",
       "    <tr>\n",
       "      <th>...</th>\n",
       "      <td>...</td>\n",
       "      <td>...</td>\n",
       "      <td>...</td>\n",
       "      <td>...</td>\n",
       "      <td>...</td>\n",
       "      <td>...</td>\n",
       "      <td>...</td>\n",
       "    </tr>\n",
       "    <tr>\n",
       "      <th>216</th>\n",
       "      <td>1.0</td>\n",
       "      <td>12.500000</td>\n",
       "      <td>251.0</td>\n",
       "      <td>16.200001</td>\n",
       "      <td>-6.0</td>\n",
       "      <td>16.500000</td>\n",
       "      <td>1</td>\n",
       "    </tr>\n",
       "    <tr>\n",
       "      <th>217</th>\n",
       "      <td>0.0</td>\n",
       "      <td>38.700001</td>\n",
       "      <td>344.0</td>\n",
       "      <td>22.400000</td>\n",
       "      <td>-8.0</td>\n",
       "      <td>32.799999</td>\n",
       "      <td>0</td>\n",
       "    </tr>\n",
       "    <tr>\n",
       "      <th>218</th>\n",
       "      <td>4.0</td>\n",
       "      <td>23.900000</td>\n",
       "      <td>440.0</td>\n",
       "      <td>26.100000</td>\n",
       "      <td>-1.7</td>\n",
       "      <td>23.200001</td>\n",
       "      <td>0</td>\n",
       "    </tr>\n",
       "    <tr>\n",
       "      <th>219</th>\n",
       "      <td>1.0</td>\n",
       "      <td>9.700000</td>\n",
       "      <td>274.0</td>\n",
       "      <td>15.000000</td>\n",
       "      <td>3.7</td>\n",
       "      <td>15.200000</td>\n",
       "      <td>1</td>\n",
       "    </tr>\n",
       "    <tr>\n",
       "      <th>220</th>\n",
       "      <td>1.0</td>\n",
       "      <td>11.100000</td>\n",
       "      <td>247.0</td>\n",
       "      <td>13.800000</td>\n",
       "      <td>-3.4</td>\n",
       "      <td>13.800000</td>\n",
       "      <td>1</td>\n",
       "    </tr>\n",
       "  </tbody>\n",
       "</table>\n",
       "<p>221 rows × 7 columns</p>\n",
       "</div>"
      ],
      "text/plain": [
       "     Pos     CS%P15    DPM       DMG%  CSD10      Gold% Cluster\n",
       "0    2.0  26.600000  417.0  24.600000   -3.3  22.500000       0\n",
       "1    4.0  22.400000  354.0  21.799999    1.7  20.900000       0\n",
       "2    0.0  33.400002  458.0  25.600000   -3.9  26.900000       0\n",
       "3    1.0  13.200000  255.0  14.900000   -1.8  17.100000       1\n",
       "4    4.0  23.600000  444.0  25.500000  -10.0  20.400000       0\n",
       "..   ...        ...    ...        ...    ...        ...     ...\n",
       "216  1.0  12.500000  251.0  16.200001   -6.0  16.500000       1\n",
       "217  0.0  38.700001  344.0  22.400000   -8.0  32.799999       0\n",
       "218  4.0  23.900000  440.0  26.100000   -1.7  23.200001       0\n",
       "219  1.0   9.700000  274.0  15.000000    3.7  15.200000       1\n",
       "220  1.0  11.100000  247.0  13.800000   -3.4  13.800000       1\n",
       "\n",
       "[221 rows x 7 columns]"
      ]
     },
     "execution_count": 386,
     "metadata": {},
     "output_type": "execute_result"
    }
   ],
   "source": [
    "# convert X to a dataframe\n",
    "mylabels=predict_model(mykmeans,data=mykmeans_cluster)\n",
    "# turn \"Cluster n\" to the number n\n",
    "mylabels['Cluster'] = mylabels['Cluster'].str.replace('Cluster ','')\n",
    "mylabels\n"
   ]
  },
  {
   "cell_type": "code",
   "execution_count": null,
   "metadata": {},
   "outputs": [
    {
     "name": "stdout",
     "output_type": "stream",
     "text": [
      "Result: 78 out of 221 samples were correctly labeled.\n",
      "Accuracy score: 0.353\n"
     ]
    }
   ],
   "source": [
    "correct_labels = sum(mylabels['Pos'].astype(int) == mylabels['Cluster'].astype(int))\n",
    "\n",
    "print(\"Result: %d out of %d samples were correctly labeled.\" % (correct_labels, y.size))\n",
    "print('Accuracy score: {0:0.3f}'. format(correct_labels/float(y.size)))\n"
   ]
  }
 ],
 "metadata": {
  "kernelspec": {
   "display_name": "MLME-23",
   "language": "python",
   "name": "python3"
  },
  "language_info": {
   "codemirror_mode": {
    "name": "ipython",
    "version": 3
   },
   "file_extension": ".py",
   "mimetype": "text/x-python",
   "name": "python",
   "nbconvert_exporter": "python",
   "pygments_lexer": "ipython3",
   "version": "3.10.2"
  }
 },
 "nbformat": 4,
 "nbformat_minor": 2
}
